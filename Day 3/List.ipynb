{
  "nbformat": 4,
  "nbformat_minor": 0,
  "metadata": {
    "colab": {
      "provenance": []
    },
    "kernelspec": {
      "name": "python3",
      "display_name": "Python 3"
    },
    "language_info": {
      "name": "python"
    }
  },
  "cells": [
    {
      "cell_type": "markdown",
      "source": [
        "# **Python Lists**\n",
        "\n",
        "Definition:\n",
        "A list in Python is a collection of items which are ordered, mutable, and allow duplicates. Lists can store different data types like numbers, strings, or even other lists.\n",
        "\n",
        "***Properties of lists***:\n",
        "\n",
        "Ordered: items have a defined order.\n",
        "\n",
        "Mutable: you can change items after creation.\n",
        "\n",
        "Allow duplicates: same value can appear multiple times.\n",
        "\n",
        "Indexed: first item index = 0."
      ],
      "metadata": {
        "id": "SHvXur5G3HsZ"
      }
    },
    {
      "cell_type": "code",
      "execution_count": 2,
      "metadata": {
        "id": "q8_qH1Ps3BiN"
      },
      "outputs": [],
      "source": [
        "my_list = [1, 2, 3, 4, 5]\n",
        "my_list2 = [\"apple\", \"banana\", \"cherry\"]\n",
        "mixed_list = [1, \"apple\", 3.14, True]\n"
      ]
    },
    {
      "cell_type": "code",
      "source": [
        "print(type(my_list))  # <class 'list'> #check type\n"
      ],
      "metadata": {
        "colab": {
          "base_uri": "https://localhost:8080/"
        },
        "id": "tjohe6NB3fJJ",
        "outputId": "c779820e-3a18-4811-9a1e-562e59652709"
      },
      "execution_count": 3,
      "outputs": [
        {
          "output_type": "stream",
          "name": "stdout",
          "text": [
            "<class 'list'>\n"
          ]
        }
      ]
    },
    {
      "cell_type": "markdown",
      "source": [
        "# **Access List Items**\n",
        "\n",
        "Use indexing and slicing to access list elements."
      ],
      "metadata": {
        "id": "94WuS_Md3k1X"
      }
    },
    {
      "cell_type": "code",
      "source": [
        "fruits = [\"apple\", \"banana\", \"cherry\", \"date\"]\n",
        "\n",
        "print(fruits[0])   # apple (first item)\n",
        "print(fruits[-1])  # date (last item)\n",
        "print(fruits[1:3]) # ['banana', 'cherry'] (slice)\n"
      ],
      "metadata": {
        "colab": {
          "base_uri": "https://localhost:8080/"
        },
        "id": "SZZTymvx3iDa",
        "outputId": "abcdb04b-385d-4060-80fd-f2d25086d03a"
      },
      "execution_count": 4,
      "outputs": [
        {
          "output_type": "stream",
          "name": "stdout",
          "text": [
            "apple\n",
            "date\n",
            "['banana', 'cherry']\n"
          ]
        }
      ]
    },
    {
      "cell_type": "markdown",
      "source": [
        "# **Change List Items**\n",
        "\n",
        "Since lists are mutable, you can modify elements."
      ],
      "metadata": {
        "id": "9MVNlu7W3ur1"
      }
    },
    {
      "cell_type": "code",
      "source": [
        "fruits[1] = \"blueberry\"\n",
        "print(fruits)  # ['apple', 'blueberry', 'cherry', 'date']\n",
        "\n",
        "\n",
        "\n",
        "fruits[1:3] = [\"banana\", \"kiwi\"]\n",
        "print(fruits)  # ['apple', 'banana', 'kiwi', 'date']\n",
        "\n"
      ],
      "metadata": {
        "colab": {
          "base_uri": "https://localhost:8080/"
        },
        "id": "l0stLHtJ3r_E",
        "outputId": "769b167d-85ca-47fe-f758-72947b89f6b1"
      },
      "execution_count": 6,
      "outputs": [
        {
          "output_type": "stream",
          "name": "stdout",
          "text": [
            "['apple', 'blueberry', 'cherry', 'date']\n",
            "['apple', 'banana', 'kiwi', 'date']\n"
          ]
        }
      ]
    },
    {
      "cell_type": "markdown",
      "source": [
        "# **Add List Items**\n",
        "\n",
        "You can add items to a list using:\n",
        "\n",
        "a) append() → adds single item at the end\n",
        "\n",
        "b) insert(index, item) → adds item at specific position\n",
        "\n",
        "c) extend() → add multiple items"
      ],
      "metadata": {
        "id": "n7kTEWze4EYI"
      }
    },
    {
      "cell_type": "code",
      "source": [
        "fruits.append(\"mango\")\n",
        "print(fruits)  # ['apple', 'banana', 'kiwi', 'date', 'mango']\n",
        "\n",
        "\n",
        "fruits.insert(2, \"orange\")\n",
        "print(fruits)  # ['apple', 'banana', 'orange', 'kiwi', 'date', 'mango']\n",
        "\n",
        "\n",
        "fruits.extend([\"grapes\", \"pear\"])\n",
        "print(fruits)  # ['apple', 'banana', 'orange', 'kiwi', 'date', 'mango', 'grapes', 'pear']\n"
      ],
      "metadata": {
        "colab": {
          "base_uri": "https://localhost:8080/"
        },
        "id": "Oz8X_oVz4Nqu",
        "outputId": "03ed53d8-e271-4413-8dcf-a59db1a4687f"
      },
      "execution_count": 7,
      "outputs": [
        {
          "output_type": "stream",
          "name": "stdout",
          "text": [
            "['apple', 'banana', 'kiwi', 'date', 'mango']\n",
            "['apple', 'banana', 'orange', 'kiwi', 'date', 'mango']\n",
            "['apple', 'banana', 'orange', 'kiwi', 'date', 'mango', 'grapes', 'pear']\n"
          ]
        }
      ]
    },
    {
      "cell_type": "markdown",
      "source": [
        "# **Remove List Items**\n",
        "\n",
        "Remove elements using:\n",
        "\n",
        "a) remove(item) → removes first occurrence\n",
        "\n",
        "b) pop() → removes by index (default last)\n",
        "\n",
        "c) del → remove by index or slice\n",
        "\n",
        "d) clear() → remove all items"
      ],
      "metadata": {
        "id": "SebmPAa04kU2"
      }
    },
    {
      "cell_type": "code",
      "source": [
        "fruits.remove(\"kiwi\")\n",
        "print(fruits)\n",
        "\n",
        "fruits.pop()       # removes 'pear'\n",
        "fruits.pop(1)      # removes 'banana'\n",
        "\n",
        "del fruits[0]\n",
        "del fruits[1:3]    # delete multiple\n",
        "\n",
        "fruits.clear()\n",
        "print(fruits)  # []\n"
      ],
      "metadata": {
        "colab": {
          "base_uri": "https://localhost:8080/"
        },
        "id": "qjHBvBIf4teu",
        "outputId": "6ba7c76f-056b-4634-e4a0-3820674ff211"
      },
      "execution_count": 8,
      "outputs": [
        {
          "output_type": "stream",
          "name": "stdout",
          "text": [
            "['apple', 'banana', 'orange', 'date', 'mango', 'grapes', 'pear']\n",
            "[]\n"
          ]
        }
      ]
    },
    {
      "cell_type": "markdown",
      "source": [
        "# **Loop Lists**\n",
        "\n",
        "You can iterate lists using loops:\n",
        "\n",
        "a) for loop\n",
        "\n",
        "b) while loop\n",
        "\n"
      ],
      "metadata": {
        "id": "gjdnB09j5CY6"
      }
    },
    {
      "cell_type": "code",
      "source": [
        "fruits = [\"apple\", \"banana\", \"cherry\"]\n",
        "for fruit in fruits:\n",
        "    print(fruit)\n"
      ],
      "metadata": {
        "colab": {
          "base_uri": "https://localhost:8080/"
        },
        "id": "JZhCNhde49gP",
        "outputId": "96eb5911-84c3-4229-a7dc-246b5ac1f63a"
      },
      "execution_count": 9,
      "outputs": [
        {
          "output_type": "stream",
          "name": "stdout",
          "text": [
            "apple\n",
            "banana\n",
            "cherry\n"
          ]
        }
      ]
    },
    {
      "cell_type": "code",
      "source": [
        "i = 0\n",
        "while i < len(fruits):\n",
        "    print(fruits[i])\n",
        "    i += 1\n"
      ],
      "metadata": {
        "colab": {
          "base_uri": "https://localhost:8080/"
        },
        "id": "UVlo-0NA5LK2",
        "outputId": "07c75c60-9fa4-4f6a-9c57-3d7766066e5f"
      },
      "execution_count": 10,
      "outputs": [
        {
          "output_type": "stream",
          "name": "stdout",
          "text": [
            "apple\n",
            "banana\n",
            "cherry\n"
          ]
        }
      ]
    },
    {
      "cell_type": "markdown",
      "source": [
        "# **List Comprehension**\n",
        "\n",
        "Shorter way to create lists using a single line for + condition."
      ],
      "metadata": {
        "id": "xr1sYFeZ5QQk"
      }
    },
    {
      "cell_type": "code",
      "source": [
        "numbers = [x**2 for x in range(1, 6)]\n",
        "print(numbers)  # [1, 4, 9, 16, 25]\n",
        "\n",
        "# With condition\n",
        "even_numbers = [x for x in range(10) if x % 2 == 0]\n",
        "print(even_numbers)  # [0, 2, 4, 6, 8]\n"
      ],
      "metadata": {
        "colab": {
          "base_uri": "https://localhost:8080/"
        },
        "id": "uD2NEajn5NXg",
        "outputId": "054b8700-0b28-41b5-a159-6a42602f033e"
      },
      "execution_count": 11,
      "outputs": [
        {
          "output_type": "stream",
          "name": "stdout",
          "text": [
            "[1, 4, 9, 16, 25]\n",
            "[0, 2, 4, 6, 8]\n"
          ]
        }
      ]
    },
    {
      "cell_type": "markdown",
      "source": [
        "# **Sort Lists**\n",
        "\n",
        "You can sort lists using:"
      ],
      "metadata": {
        "id": "W03-RGTY5afy"
      }
    },
    {
      "cell_type": "code",
      "source": [
        "#a) sort() → sorts list in-place\n",
        "numbers = [4, 2, 9, 1]\n",
        "numbers.sort()\n",
        "print(numbers)\n",
        "\n",
        "numbers.sort(reverse=True)\n",
        "print(numbers)"
      ],
      "metadata": {
        "colab": {
          "base_uri": "https://localhost:8080/"
        },
        "id": "KR3RCVvP5c46",
        "outputId": "da8c7450-6b25-4ea4-a6eb-80aff6b07844"
      },
      "execution_count": 12,
      "outputs": [
        {
          "output_type": "stream",
          "name": "stdout",
          "text": [
            "[1, 2, 4, 9]\n",
            "[9, 4, 2, 1]\n"
          ]
        }
      ]
    },
    {
      "cell_type": "code",
      "source": [
        "#b) sorted() → returns new sorted list\n",
        "\n",
        "numbers = [4, 2, 9, 1]\n",
        "print(sorted(numbers))  # [1, 2, 4, 9]\n",
        "print(numbers)          # original unchanged [4, 2, 9, 1]\n"
      ],
      "metadata": {
        "colab": {
          "base_uri": "https://localhost:8080/"
        },
        "id": "XV1jFOMZ5klt",
        "outputId": "ebe436ec-360a-441b-b389-fb0dbdf20a6f"
      },
      "execution_count": 13,
      "outputs": [
        {
          "output_type": "stream",
          "name": "stdout",
          "text": [
            "[1, 2, 4, 9]\n",
            "[4, 2, 9, 1]\n"
          ]
        }
      ]
    },
    {
      "cell_type": "code",
      "source": [
        "#Copy Lists\n",
        "#a) copy() → shallow copy\n",
        "original = [1, 2, 3]\n",
        "new_list = original.copy()\n",
        "\n",
        "#b) Slice method\n",
        "new_list = original[:]\n"
      ],
      "metadata": {
        "id": "nJ4XW1cX5y76"
      },
      "execution_count": 14,
      "outputs": []
    },
    {
      "cell_type": "code",
      "source": [
        "\"\"\"Join Lists\n",
        "\n",
        "Combine multiple lists:\n",
        "\n",
        "a) Using + operator\"\"\"\n",
        "\n",
        "list1 = [1, 2]\n",
        "list2 = [3, 4]\n",
        "combined = list1 + list2\n",
        "print(combined)\n",
        "\n",
        "\n",
        "#Using extend()\n",
        "list1.extend(list2)\n"
      ],
      "metadata": {
        "colab": {
          "base_uri": "https://localhost:8080/"
        },
        "id": "8ndqh6bB58Td",
        "outputId": "89218e6f-1457-442a-a3b1-588d16f642f9"
      },
      "execution_count": 17,
      "outputs": [
        {
          "output_type": "stream",
          "name": "stdout",
          "text": [
            "[1, 2, 3, 4]\n"
          ]
        }
      ]
    },
    {
      "cell_type": "markdown",
      "source": [
        "# **List Methods (Common)**\n",
        "**Method\tDescription**\n",
        "\n",
        "append()\tAdd item at end\n",
        "\n",
        "insert()\tAdd item at specific position\n",
        "\n",
        "extend()\tAdd multiple items\n",
        "\n",
        "remove()\tRemove first occurrence\n",
        "\n",
        "pop()\tRemove by index (default last)\n",
        "\n",
        "clear()\tRemove all elements\n",
        "\n",
        "index()\tFind index of first occurrence\n",
        "\n",
        "count()\tCount occurrences\n",
        "\n",
        "sort()\tSort in-place\n",
        "\n",
        "reverse()\tReverse list\n",
        "\n",
        "copy()\tCopy list\n",
        "\n",
        "\n",
        "\n",
        "\n",
        "\n"
      ],
      "metadata": {
        "id": "xTIRWYKM6SCn"
      }
    }
  ]
}