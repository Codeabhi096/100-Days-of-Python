{
  "nbformat": 4,
  "nbformat_minor": 0,
  "metadata": {
    "colab": {
      "provenance": []
    },
    "kernelspec": {
      "name": "python3",
      "display_name": "Python 3"
    },
    "language_info": {
      "name": "python"
    }
  },
  "cells": [
    {
      "cell_type": "markdown",
      "source": [
        "# **Python Strings**\n",
        "\n",
        "Definition:\n",
        "A string is a sequence of characters enclosed in single ('...') or double (\"...\") quotes. Strings are immutable in Python, meaning you cannot modify them directly after creation."
      ],
      "metadata": {
        "id": "OA-3QTbBzK4J"
      }
    },
    {
      "cell_type": "code",
      "execution_count": 2,
      "metadata": {
        "id": "dGkQ1VbOsH1D"
      },
      "outputs": [],
      "source": [
        "s1 = \"Abhishek\"\n",
        "s2 = 'Bhardwaj'\n",
        "s3 = \"\"\" hello ,how are you...i am learning python and this is multiline comment\"\"\"\n"
      ]
    },
    {
      "cell_type": "markdown",
      "source": [
        "# **String Slicing**\n",
        "\n",
        "Slicing allows you to access a substring from a string.\n",
        "\n",
        "string[start:stop:step]"
      ],
      "metadata": {
        "id": "P5oc03V2zrYx"
      }
    },
    {
      "cell_type": "code",
      "source": [
        "s = \"Abhishek\"\n",
        "print(s[0:4])\n",
        "print(s[-1])\n",
        "print(s[::2])\n",
        "print(s[::-1])"
      ],
      "metadata": {
        "colab": {
          "base_uri": "https://localhost:8080/"
        },
        "id": "zYMmCnQvzsEI",
        "outputId": "d0c94a18-10f6-446d-de3c-6e330b35aa2c"
      },
      "execution_count": 3,
      "outputs": [
        {
          "output_type": "stream",
          "name": "stdout",
          "text": [
            "Abhi\n",
            "k\n",
            "Ahse\n",
            "kehsihbA\n"
          ]
        }
      ]
    },
    {
      "cell_type": "markdown",
      "source": [
        "# **Modifying Strings**\n",
        "\n",
        "Since strings are immutable, you cannot change them directly.\n",
        "\n",
        "You can create a new string based on the old one."
      ],
      "metadata": {
        "id": "uoikTHV-0HbR"
      }
    },
    {
      "cell_type": "code",
      "source": [
        "s = \"hello\"\n",
        "s = s.upper()\n",
        "s = s.replace(\"HELLO\", \"HI\")\n",
        "print(s.upper())\n"
      ],
      "metadata": {
        "colab": {
          "base_uri": "https://localhost:8080/"
        },
        "id": "d3FQ39Of0JS_",
        "outputId": "a3f84677-7644-4d4f-8dcb-efc04a3553f6"
      },
      "execution_count": 6,
      "outputs": [
        {
          "output_type": "stream",
          "name": "stdout",
          "text": [
            "HI\n"
          ]
        }
      ]
    },
    {
      "cell_type": "markdown",
      "source": [
        "# **String Concatenation**\n",
        "\n",
        "You can join strings using the + operator or repeat them using *."
      ],
      "metadata": {
        "id": "0LH8uLnR0bOW"
      }
    },
    {
      "cell_type": "code",
      "source": [
        "s1 = \"Hello\"\n",
        "s2 = \"World\"\n",
        "print(s1 + \" \" + s2)  # 'Hello World'\n",
        "print(\"Ha! \" * 3)     # 'Ha! Ha! Ha! '\n"
      ],
      "metadata": {
        "colab": {
          "base_uri": "https://localhost:8080/"
        },
        "id": "2HRs-bLs0dCF",
        "outputId": "48b71e90-8c78-4081-8625-fb96594f8142"
      },
      "execution_count": 7,
      "outputs": [
        {
          "output_type": "stream",
          "name": "stdout",
          "text": [
            "Hello World\n",
            "Ha! Ha! Ha! \n"
          ]
        }
      ]
    },
    {
      "cell_type": "markdown",
      "source": [
        "# **String Formatting**\n",
        "\n",
        "String formatting allows you to insert dynamic values into strings."
      ],
      "metadata": {
        "id": "XAZCNsH90mcv"
      }
    },
    {
      "cell_type": "code",
      "source": [
        "#Methods:\n",
        "\n",
        "#f-strings (Python 3.6+)\n",
        "\n",
        "name = \"Abhishek\"\n",
        "age = 21\n",
        "print(f\"My name is {name} and I am {age} years old.\")"
      ],
      "metadata": {
        "colab": {
          "base_uri": "https://localhost:8080/"
        },
        "id": "RUeUk_iz0pBu",
        "outputId": "59f58c10-5d0e-4559-990b-90cb6f2e5e6c"
      },
      "execution_count": 9,
      "outputs": [
        {
          "output_type": "stream",
          "name": "stdout",
          "text": [
            "My name is Abhishek and I am 21 years old.\n"
          ]
        }
      ]
    },
    {
      "cell_type": "code",
      "source": [
        "\n",
        "#str.format() method\n",
        "\n",
        "print(\"My name is {} and I am {} years old.\".format(name, age))"
      ],
      "metadata": {
        "colab": {
          "base_uri": "https://localhost:8080/"
        },
        "id": "rP-YY12g03T9",
        "outputId": "b4d060ad-0bd2-44f9-9809-c2acd3684086"
      },
      "execution_count": 10,
      "outputs": [
        {
          "output_type": "stream",
          "name": "stdout",
          "text": [
            "My name is Abhishek and I am 21 years old.\n"
          ]
        }
      ]
    },
    {
      "cell_type": "code",
      "source": [
        "#Percent (%) formatting\n",
        "\n",
        "print(\"My name is %s and I am %d years old.\" % (name, age))"
      ],
      "metadata": {
        "colab": {
          "base_uri": "https://localhost:8080/"
        },
        "id": "9u4AwDA11CjO",
        "outputId": "34c1c071-d293-4a62-f630-4d91e7f24f5a"
      },
      "execution_count": 11,
      "outputs": [
        {
          "output_type": "stream",
          "name": "stdout",
          "text": [
            "My name is Abhishek and I am 21 years old.\n"
          ]
        }
      ]
    },
    {
      "cell_type": "markdown",
      "source": [
        "# **Escape Characters**\n",
        "\n",
        "Escape characters are special sequences used to represent characters that are difficult to type or have special meaning.\n",
        "\n",
        "Escape\tMeaning\n",
        "\n",
        "\\n\tNew line\n",
        "\n",
        "\\t\tTab\n",
        "\n",
        "\\\\\tBackslash\n",
        "\n",
        "\\'\tSingle quote\n",
        "\n",
        "\\\"\tDouble quote"
      ],
      "metadata": {
        "id": "865wu5KK1Nhy"
      }
    },
    {
      "cell_type": "code",
      "source": [
        "print(\"Hello\\nWorld\")  # Prints 'Hello' and 'World' on separate lines\n",
        "print(\"Hello\\tWorld\")  # Tab space between Hello and World\n"
      ],
      "metadata": {
        "colab": {
          "base_uri": "https://localhost:8080/"
        },
        "id": "NwKl5S641Pcx",
        "outputId": "cb716482-670d-4fac-c69c-9369a9924ed0"
      },
      "execution_count": 12,
      "outputs": [
        {
          "output_type": "stream",
          "name": "stdout",
          "text": [
            "Hello\n",
            "World\n",
            "Hello\tWorld\n"
          ]
        }
      ]
    },
    {
      "cell_type": "markdown",
      "source": [
        "# **String Methods**\n",
        "\n",
        "Python provides built-in methods for strings to manipulate them efficiently:\n",
        "\n",
        "***Method\tDescription***\n",
        "\n",
        ".upper()\tConverts to uppercase\n",
        "\n",
        ".lower()\tConverts to lowercase\n",
        "\n",
        ".title()\tCapitalizes the first letter of each word\n",
        "\n",
        ".strip()\tRemoves leading/trailing spaces\n",
        "\n",
        ".replace(a,b)\tReplaces substring a with b\n",
        "\n",
        ".split()\tSplits string into a list\n",
        "\n",
        ".join()\tJoins a list of strings into one\n",
        "\n",
        ".find()\tReturns index of substring\n",
        "\n",
        ".startswith()\tChecks if string starts with given prefix\n",
        "\n",
        ".endswith()\tChecks if string ends with given suffix"
      ],
      "metadata": {
        "id": "BQ_ljO0t1ag5"
      }
    },
    {
      "cell_type": "code",
      "source": [
        "s = \"  python programming  \"\n",
        "print(s.upper())         # 'PYTHON PROGRAMMING'\n",
        "print(s.strip())         # 'python programming'\n",
        "print(s.replace(\"python\",\"Java\"))  # 'Java programming'\n",
        "print(s.split())         # ['python', 'programming']\n"
      ],
      "metadata": {
        "colab": {
          "base_uri": "https://localhost:8080/"
        },
        "id": "pdzDzJh31XR1",
        "outputId": "4b7f363d-4229-4d58-fd69-f868be814b09"
      },
      "execution_count": 13,
      "outputs": [
        {
          "output_type": "stream",
          "name": "stdout",
          "text": [
            "  PYTHON PROGRAMMING  \n",
            "python programming\n",
            "  Java programming  \n",
            "['python', 'programming']\n"
          ]
        }
      ]
    }
  ]
}