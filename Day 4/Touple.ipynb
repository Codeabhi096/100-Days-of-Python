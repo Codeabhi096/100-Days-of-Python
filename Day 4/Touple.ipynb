{
  "nbformat": 4,
  "nbformat_minor": 0,
  "metadata": {
    "colab": {
      "provenance": []
    },
    "kernelspec": {
      "name": "python3",
      "display_name": "Python 3"
    },
    "language_info": {
      "name": "python"
    }
  },
  "cells": [
    {
      "cell_type": "markdown",
      "source": [
        "# **Definition:**\n",
        "\n",
        "A tuple is an ordered and immutable collection in Python.\n",
        "It allows you to store multiple items in a single variable."
      ],
      "metadata": {
        "id": "KT8vF9HSSirr"
      }
    },
    {
      "cell_type": "code",
      "execution_count": 1,
      "metadata": {
        "id": "c69zu3WCO7oG"
      },
      "outputs": [],
      "source": [
        "var1 = (1 , 2 , 3 , 4) #syntax"
      ]
    },
    {
      "cell_type": "markdown",
      "source": [
        "# **Key Features:**\n",
        "\n",
        "Ordered: The items have a fixed order that won’t change.\n",
        "\n",
        "Immutable: You cannot modify (change, add, or remove) items after creation.\n",
        "\n",
        "Allow duplicates: Tuples can contain duplicate values.\n",
        "\n",
        "Can store different data types: e.g., integers, strings, floats, lists, etc."
      ],
      "metadata": {
        "id": "_rVouHWmSvFS"
      }
    },
    {
      "cell_type": "code",
      "source": [
        "tuple1 = (1, 2, 3)\n",
        "tuple2 = (\"apple\", \"banana\", \"cherry\")\n",
        "tuple3 = (1, \"apple\", True, 4.5)\n"
      ],
      "metadata": {
        "id": "7US2U2JiS1NQ"
      },
      "execution_count": 2,
      "outputs": []
    },
    {
      "cell_type": "markdown",
      "source": [
        "# **Access Tuple Item**s\n",
        "\n",
        "You can access tuple elements using their index numbers (starting from 0)."
      ],
      "metadata": {
        "id": "5GzbUn5-THLd"
      }
    },
    {
      "cell_type": "code",
      "source": [
        "fruits = (\"apple\", \"banana\", \"cherry\")\n",
        "\n",
        "print(fruits[0])   # apple\n",
        "print(fruits[1])   # banana\n",
        "print(fruits[-1])  # cherry (last element)\n"
      ],
      "metadata": {
        "colab": {
          "base_uri": "https://localhost:8080/"
        },
        "id": "GEXriCGNTIxn",
        "outputId": "baea2679-0ab3-418b-d2f0-dfe6870c0d68"
      },
      "execution_count": 3,
      "outputs": [
        {
          "output_type": "stream",
          "name": "stdout",
          "text": [
            "apple\n",
            "banana\n",
            "cherry\n"
          ]
        }
      ]
    },
    {
      "cell_type": "code",
      "source": [
        "#Accessing a range of items (slicing):\n",
        "print(fruits[0:2])  # ('apple', 'banana')\n"
      ],
      "metadata": {
        "colab": {
          "base_uri": "https://localhost:8080/"
        },
        "id": "WPQ4DCbWTOv6",
        "outputId": "03835224-07d5-4bd5-c379-21ce6a8fa6f9"
      },
      "execution_count": 4,
      "outputs": [
        {
          "output_type": "stream",
          "name": "stdout",
          "text": [
            "('apple', 'banana')\n"
          ]
        }
      ]
    },
    {
      "cell_type": "markdown",
      "source": [
        "# **Update Tuples**\n",
        "\n",
        "Tuples are immutable, meaning you cannot change them directly.\n",
        "However, you can convert the tuple to a list, make changes, and then convert it back."
      ],
      "metadata": {
        "id": "i9v6XZogTea-"
      }
    },
    {
      "cell_type": "code",
      "source": [
        "fruits = (\"apple\", \"banana\", \"cherry\")\n",
        "temp_list = list(fruits)\n",
        "temp_list[1] = \"orange\"\n",
        "fruits = tuple(temp_list)\n",
        "\n",
        "print(fruits)  # ('apple', 'orange', 'cherry')\n"
      ],
      "metadata": {
        "colab": {
          "base_uri": "https://localhost:8080/"
        },
        "id": "6v1-g2SJTgF6",
        "outputId": "ed5666a5-6c1f-4ae7-930e-c6af91343499"
      },
      "execution_count": 5,
      "outputs": [
        {
          "output_type": "stream",
          "name": "stdout",
          "text": [
            "('apple', 'orange', 'cherry')\n"
          ]
        }
      ]
    },
    {
      "cell_type": "markdown",
      "source": [
        "# **Add items to a tuple**:\n",
        "\n",
        "Since tuples can’t be changed, you can add items by joining two tuples."
      ],
      "metadata": {
        "id": "6oLlaKXNTnUM"
      }
    },
    {
      "cell_type": "code",
      "source": [
        "x = (\"apple\", \"banana\")\n",
        "y = (\"cherry\",)\n",
        "x = x + y\n",
        "print(x)  # ('apple', 'banana', 'cherry')\n"
      ],
      "metadata": {
        "colab": {
          "base_uri": "https://localhost:8080/"
        },
        "id": "Cj5ZousaTk4u",
        "outputId": "762ca363-2d2d-4342-b537-ed50ad5dfb73"
      },
      "execution_count": 6,
      "outputs": [
        {
          "output_type": "stream",
          "name": "stdout",
          "text": [
            "('apple', 'banana', 'cherry')\n"
          ]
        }
      ]
    },
    {
      "cell_type": "markdown",
      "source": [
        "# **Unpack Tuples**\n",
        "\n",
        "Unpacking means assigning the tuple’s values to separate variables."
      ],
      "metadata": {
        "id": "XJ4vbJ9nTwxG"
      }
    },
    {
      "cell_type": "code",
      "source": [
        "fruits = (\"apple\", \"banana\", \"cherry\")\n",
        "(a, b, c) = fruits\n",
        "\n",
        "print(a)  # apple\n",
        "print(b)  # banana\n",
        "print(c)  # cherry\n"
      ],
      "metadata": {
        "colab": {
          "base_uri": "https://localhost:8080/"
        },
        "id": "KFEohIigTy0d",
        "outputId": "ad4a6337-446e-405f-b2f2-30206c358187"
      },
      "execution_count": 8,
      "outputs": [
        {
          "output_type": "stream",
          "name": "stdout",
          "text": [
            "apple\n",
            "banana\n",
            "cherry\n"
          ]
        }
      ]
    },
    {
      "cell_type": "markdown",
      "source": [
        "# Using the Asterisk (*) Operator:\n",
        "\n",
        "If the number of variables is less than the number of items,\n",
        "you can use * to collect the remaining values into a list."
      ],
      "metadata": {
        "id": "XfTdlGViUGnK"
      }
    },
    {
      "cell_type": "code",
      "source": [
        "fruits = (\"apple\", \"banana\", \"cherry\", \"mango\", \"orange\")\n",
        "(a, b, *c) = fruits\n",
        "\n",
        "print(a)  # apple\n",
        "print(b)  # banana\n",
        "print(c)  # ['cherry', 'mango', 'orange']\n"
      ],
      "metadata": {
        "colab": {
          "base_uri": "https://localhost:8080/"
        },
        "id": "Qnbj5d76UNXP",
        "outputId": "52046333-23bc-4df7-de1e-aff8d79f8dcc"
      },
      "execution_count": 9,
      "outputs": [
        {
          "output_type": "stream",
          "name": "stdout",
          "text": [
            "apple\n",
            "banana\n",
            "['cherry', 'mango', 'orange']\n"
          ]
        }
      ]
    },
    {
      "cell_type": "markdown",
      "source": [
        "# **Loop Tuples**\n",
        "\n",
        "You can loop through a tuple using a for loop."
      ],
      "metadata": {
        "id": "ci1TX7j0UZUg"
      }
    },
    {
      "cell_type": "code",
      "source": [
        "fruits = (\"apple\", \"banana\", \"cherry\")\n",
        "\n",
        "for item in fruits:\n",
        "    print(item)\n"
      ],
      "metadata": {
        "colab": {
          "base_uri": "https://localhost:8080/"
        },
        "id": "TWt6LCEKUZDv",
        "outputId": "b8c5d3f0-b8a0-4447-82e1-b8ae78a11d0b"
      },
      "execution_count": 10,
      "outputs": [
        {
          "output_type": "stream",
          "name": "stdout",
          "text": [
            "apple\n",
            "banana\n",
            "cherry\n"
          ]
        }
      ]
    },
    {
      "cell_type": "code",
      "source": [
        "#Using index numbers:\n",
        "for i in range(len(fruits)):\n",
        "    print(fruits[i])\n"
      ],
      "metadata": {
        "colab": {
          "base_uri": "https://localhost:8080/"
        },
        "id": "LIkYYIUwUmvI",
        "outputId": "c66ceae0-c049-4017-b4eb-406d12500441"
      },
      "execution_count": 11,
      "outputs": [
        {
          "output_type": "stream",
          "name": "stdout",
          "text": [
            "apple\n",
            "banana\n",
            "cherry\n"
          ]
        }
      ]
    },
    {
      "cell_type": "markdown",
      "source": [
        "# **Join Tuples**\n",
        "\n",
        "You can combine (join) two or more tuples using the + operator."
      ],
      "metadata": {
        "id": "BgWbATMcUr4k"
      }
    },
    {
      "cell_type": "code",
      "source": [
        "tuple1 = (1, 2, 3)\n",
        "tuple2 = (4, 5, 6)\n",
        "tuple3 = tuple1 + tuple2\n",
        "print(tuple3)  # (1, 2, 3, 4, 5, 6)\n"
      ],
      "metadata": {
        "colab": {
          "base_uri": "https://localhost:8080/"
        },
        "id": "kMIrBquuUtbV",
        "outputId": "c95f48ef-9bf8-4ed7-d3a7-d96ccbfc3906"
      },
      "execution_count": 12,
      "outputs": [
        {
          "output_type": "stream",
          "name": "stdout",
          "text": [
            "(1, 2, 3, 4, 5, 6)\n"
          ]
        }
      ]
    },
    {
      "cell_type": "code",
      "source": [
        "#You can also multiply tuples to repeat their elements:\n",
        "tuple4 = (\"apple\", \"banana\") * 2\n",
        "print(tuple4)  # ('apple', 'banana', 'apple', 'banana')\n"
      ],
      "metadata": {
        "colab": {
          "base_uri": "https://localhost:8080/"
        },
        "id": "GPXHwjmlU0kp",
        "outputId": "f6746d8c-a54d-46c8-ecfa-c19a5b88656c"
      },
      "execution_count": 13,
      "outputs": [
        {
          "output_type": "stream",
          "name": "stdout",
          "text": [
            "('apple', 'banana', 'apple', 'banana')\n"
          ]
        }
      ]
    },
    {
      "cell_type": "markdown",
      "source": [
        "# **Tuple Methods**\n",
        "\n",
        "Tuples have only two built-in methods:\n",
        "\n",
        "Count()\n",
        "\n",
        "Index()"
      ],
      "metadata": {
        "id": "8ybqrRecU7Rp"
      }
    },
    {
      "cell_type": "code",
      "source": [
        "t = (1, 2, 3, 2, 4)\n",
        "print(t.count(2))  # 2\n",
        "print(t.index(3))  # 2\n"
      ],
      "metadata": {
        "colab": {
          "base_uri": "https://localhost:8080/"
        },
        "id": "kWkqsdh8VKZM",
        "outputId": "185c7620-44c5-4207-d4bd-bd83857f4657"
      },
      "execution_count": 14,
      "outputs": [
        {
          "output_type": "stream",
          "name": "stdout",
          "text": [
            "2\n",
            "2\n"
          ]
        }
      ]
    },
    {
      "cell_type": "markdown",
      "source": [
        "# **Namedtuple**\n",
        "\n",
        "namedtuple is part of the collections module.\n",
        "It allows you to create tuple-like objects with named fields, making your code more readable."
      ],
      "metadata": {
        "id": "ciqCD3FdVQNx"
      }
    },
    {
      "cell_type": "code",
      "source": [
        "from collections import namedtuple\n",
        "\n",
        "Person = namedtuple(\"Person\", [\"name\", \"age\", \"city\"])\n",
        "p1 = Person(\"Alice\", 25, \"New York\")\n",
        "\n",
        "print(p1.name)\n",
        "print(p1.age)\n",
        "print(p1.city)\n"
      ],
      "metadata": {
        "colab": {
          "base_uri": "https://localhost:8080/"
        },
        "id": "pMNhm6NnVTDs",
        "outputId": "99b0b746-0fd6-4b95-a6de-01e434bf5cdd"
      },
      "execution_count": 15,
      "outputs": [
        {
          "output_type": "stream",
          "name": "stdout",
          "text": [
            "Alice\n",
            "25\n",
            "New York\n"
          ]
        }
      ]
    }
  ]
}