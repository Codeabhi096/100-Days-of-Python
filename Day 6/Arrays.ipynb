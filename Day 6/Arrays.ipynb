{
  "nbformat": 4,
  "nbformat_minor": 0,
  "metadata": {
    "colab": {
      "provenance": []
    },
    "kernelspec": {
      "name": "python3",
      "display_name": "Python 3"
    },
    "language_info": {
      "name": "python"
    }
  },
  "cells": [
    {
      "cell_type": "markdown",
      "source": [
        "# **What is an array?**\n",
        "\n",
        "In general programming, an array is a data structure that holds multiple items of the same type, stored in contiguous memory, and each element is accessed by index.\n",
        "\n",
        "\n",
        "In Python things are a little different: Python’s built-in list acts like an array in many ways (but can hold mixed types). Python also has the array module (in standard library) for true homogeneous arrays.\n",
        "\n",
        "\n",
        "Most Python code uses lists or third-party libraries like NumPy’s arrays (for numerical / scientific computing) rather than the array standard module — but the module is still useful when you want efficient storage of same‐type items.\n",
        "\n",
        "\n",
        "# Why use arrays (versus lists)?\n",
        "\n",
        "With the array module: arrays are homogeneous (all elements same type), so less overhead, more memory efficient than a list of mixed objects.\n",
        "\n",
        "\n",
        "Arrays can give performance benefits when dealing with large collections of numeric data and you know the type.\n",
        "\n",
        "But if you need flexibility (mixed types, variable operations) a list is often more convenient."
      ],
      "metadata": {
        "id": "yekYK6jTjDcT"
      }
    },
    {
      "cell_type": "markdown",
      "source": [
        "# **Arrays (Creation, Basics)**\n",
        "Importing and creating an array\n",
        "\n",
        "With standard module:"
      ],
      "metadata": {
        "id": "D65O_HexjYo0"
      }
    },
    {
      "cell_type": "code",
      "execution_count": null,
      "metadata": {
        "id": "s8v9IoLuikAF"
      },
      "outputs": [],
      "source": [
        "import array\n",
        "# or: from array import array\n",
        "\n",
        "# Syntax:\n",
        "# array(typecode, initializer_list)\n",
        "a = array.array('i', [1, 2, 3, 4])\n"
      ]
    },
    {
      "cell_type": "markdown",
      "source": [
        "typecode is a character indicating the type of elements allowed (e.g. 'i' for signed integer).\n",
        "\n",
        "\n",
        "initializer_list is an iterable (typically list) of values of that type."
      ],
      "metadata": {
        "id": "fSMlG-t8jkA4"
      }
    },
    {
      "cell_type": "code",
      "source": [
        "import array as arr\n",
        "a = arr.array('i', [1, 2, 3])\n",
        "print(a)"
      ],
      "metadata": {
        "colab": {
          "base_uri": "https://localhost:8080/"
        },
        "id": "t6nNoOIKjmYt",
        "outputId": "8285583c-68a5-439d-98d1-d769a2784720"
      },
      "execution_count": null,
      "outputs": [
        {
          "output_type": "stream",
          "name": "stdout",
          "text": [
            "array('i', [1, 2, 3])\n"
          ]
        }
      ]
    },
    {
      "cell_type": "markdown",
      "source": [
        "| Typecode | Meaning           | Byte size                         |\n",
        "| -------- | ----------------- | --------------------------------- |\n",
        "| 'b'      | signed integer    | 1 byte                            |\n",
        "| 'B'      | unsigned integer  | 1 byte                            |\n",
        "| 'u'      | Unicode character | 2 bytes                           |\n",
        "| 'h'      | signed integer    | 2 bytes                           |\n",
        "| 'H'      | unsigned integer  | 2 bytes                           |\n",
        "| 'i'      | signed integer    | 2 or 4 bytes (platform dependent) |\n",
        "| 'I'      | unsigned integer  | 2 or 4 bytes                      |\n",
        "| 'l'      | signed integer    | 4 bytes                           |\n",
        "| 'L'      | unsigned integer  | 4 bytes                           |\n",
        "| 'f'      | floating point    | 4 bytes                           |\n",
        "| 'd'      | floating point    | 8 bytes                           |\n",
        "\n",
        "These codes define what type the array elements must be.\n"
      ],
      "metadata": {
        "id": "qaHSj4W4j1fa"
      }
    },
    {
      "cell_type": "code",
      "source": [
        "#Accessing basic info\n",
        "\n",
        "#You can check:\n",
        "\n",
        "import array\n",
        "a = array.array('d', [1.1, 2.2, 3.3])\n",
        "print(type(a))\n",
        "print(a)\n",
        "print(len(a))"
      ],
      "metadata": {
        "colab": {
          "base_uri": "https://localhost:8080/"
        },
        "id": "He83RI11j8--",
        "outputId": "1a1885c0-9791-4cc4-e37d-984123ff5b03"
      },
      "execution_count": null,
      "outputs": [
        {
          "output_type": "stream",
          "name": "stdout",
          "text": [
            "<class 'array.array'>\n",
            "array('d', [1.1, 2.2, 3.3])\n",
            "3\n"
          ]
        }
      ]
    },
    {
      "cell_type": "markdown",
      "source": [
        "# **Key characteristics:**\n",
        "\n",
        "Homogeneous: all elements same type.\n",
        "\n",
        "\n",
        "Elements are stored in contiguous memory (for numerical arrays) which helps performance.\n",
        "\n",
        "\n",
        "The array object supports most sequence operations (indexing, slicing, iteration) similar to lists.\n",
        "\n",
        "# **Access Array Items**\n",
        "\n",
        "Once you have created an array, you want to access elements, slice, etc."
      ],
      "metadata": {
        "id": "SLV65dhxkMkT"
      }
    },
    {
      "cell_type": "code",
      "source": [
        "#Access by index\n",
        "import array\n",
        "a = array.array('i', [10, 20, 30, 40, 50])\n",
        "\n",
        "print(a[0])\n",
        "print(a[3])"
      ],
      "metadata": {
        "colab": {
          "base_uri": "https://localhost:8080/"
        },
        "id": "uH1jeFWZkQ8P",
        "outputId": "c22f4b36-6672-489d-c00c-8174b6d0f633"
      },
      "execution_count": null,
      "outputs": [
        {
          "output_type": "stream",
          "name": "stdout",
          "text": [
            "10\n",
            "40\n"
          ]
        }
      ]
    },
    {
      "cell_type": "code",
      "source": [
        "'''Negative indexing\n",
        "\n",
        "You can use negative index to access from the end:'''\n",
        "\n",
        "print(a[-1])"
      ],
      "metadata": {
        "colab": {
          "base_uri": "https://localhost:8080/"
        },
        "id": "n5sYCHo4kbrs",
        "outputId": "8bc92b36-1071-4c90-dcc0-ea77d3291670"
      },
      "execution_count": null,
      "outputs": [
        {
          "output_type": "stream",
          "name": "stdout",
          "text": [
            "50\n"
          ]
        }
      ]
    },
    {
      "cell_type": "code",
      "source": [
        "'''Slicing\n",
        "\n",
        "Similar to lists, you can take a slice (though note: the result might be a list or array depending). For arrays you can do:'''\n",
        "\n",
        "sub = a[1:4]\n",
        "print(sub)"
      ],
      "metadata": {
        "colab": {
          "base_uri": "https://localhost:8080/"
        },
        "id": "J6G_Eh7-keeB",
        "outputId": "bfc484f8-d962-4226-fadd-ad34206ff6cb"
      },
      "execution_count": null,
      "outputs": [
        {
          "output_type": "stream",
          "name": "stdout",
          "text": [
            "array('i', [20, 30, 40])\n"
          ]
        }
      ]
    },
    {
      "cell_type": "code",
      "source": [
        "#Iterating through array\n",
        "for element in a:\n",
        "    print(element)"
      ],
      "metadata": {
        "colab": {
          "base_uri": "https://localhost:8080/"
        },
        "id": "19NG7fXPkgnS",
        "outputId": "93a2db9f-879e-4524-e5c6-155b1bf5beff"
      },
      "execution_count": null,
      "outputs": [
        {
          "output_type": "stream",
          "name": "stdout",
          "text": [
            "10\n",
            "20\n",
            "30\n",
            "40\n",
            "50\n"
          ]
        }
      ]
    },
    {
      "cell_type": "code",
      "source": [
        "#Search element or find index\n",
        "\n",
        "#You can do manual search:\n",
        "\n",
        "for idx, val in enumerate(a):\n",
        "    if val == 30:\n",
        "        print(\"Found at index\", idx)"
      ],
      "metadata": {
        "colab": {
          "base_uri": "https://localhost:8080/"
        },
        "id": "HPMGKNuKkiZw",
        "outputId": "6c0f73c9-8a6b-4470-e15f-74ea08547620"
      },
      "execution_count": null,
      "outputs": [
        {
          "output_type": "stream",
          "name": "stdout",
          "text": [
            "Found at index 2\n"
          ]
        }
      ]
    },
    {
      "cell_type": "code",
      "source": [
        "#Or you can use array’s method (if available) or convert to list. For example a.index(value) works for array module arrays.\n",
        "\n",
        "#Checking length, membership\n",
        "len(a)    # number of elements\n",
        "if 20 in a:\n",
        "    print(\"20 is present\")"
      ],
      "metadata": {
        "colab": {
          "base_uri": "https://localhost:8080/"
        },
        "id": "ifHsWKLOkkiR",
        "outputId": "c709f4ee-bf88-4af3-e171-b82ba6ab0941"
      },
      "execution_count": null,
      "outputs": [
        {
          "output_type": "stream",
          "name": "stdout",
          "text": [
            "20 is present\n"
          ]
        }
      ]
    },
    {
      "cell_type": "markdown",
      "source": [
        "\n",
        "# **Comparison with lists:**\n",
        "\n",
        "While lists allow indexing and slicing, lists can contain mixed types; arrays restrict to one type. The  notes: “Use arrays when you need homogeneous data and memory efficiency."
      ],
      "metadata": {
        "id": "F3lyT7Gxkrp4"
      }
    },
    {
      "cell_type": "code",
      "source": [
        "#Add Array Items\n",
        "\n",
        "'''How to add elements into the array (using array module):\n",
        "\n",
        "append()'''\n",
        "import array\n",
        "a = array.array('i', [1,2,3])\n",
        "a.append(4)\n",
        "print(a)"
      ],
      "metadata": {
        "colab": {
          "base_uri": "https://localhost:8080/"
        },
        "id": "OssICHlnkyQJ",
        "outputId": "2ecc6cd0-f4ee-40e5-921b-cca3de8c69e3"
      },
      "execution_count": null,
      "outputs": [
        {
          "output_type": "stream",
          "name": "stdout",
          "text": [
            "array('i', [1, 2, 3, 4])\n"
          ]
        }
      ]
    },
    {
      "cell_type": "code",
      "source": [
        "#insert(index, value)\n",
        "a.insert(1, 10)\n",
        "print(a)"
      ],
      "metadata": {
        "colab": {
          "base_uri": "https://localhost:8080/"
        },
        "id": "guqnSb6Ck1Pq",
        "outputId": "f8ed2238-08db-4437-98c6-ef2c8aabfff5"
      },
      "execution_count": null,
      "outputs": [
        {
          "output_type": "stream",
          "name": "stdout",
          "text": [
            "array('i', [1, 10, 2, 3, 4])\n"
          ]
        }
      ]
    },
    {
      "cell_type": "code",
      "source": [
        "'''extend() (or use += if allowed)\n",
        "\n",
        "You can extend by another iterable of the same type:'''\n",
        "\n",
        "b = array.array('i', [5,6,7])\n",
        "a.extend(b)\n",
        "print(a)"
      ],
      "metadata": {
        "colab": {
          "base_uri": "https://localhost:8080/"
        },
        "id": "wiqxxQ5ek3j4",
        "outputId": "9ae08b5c-2bf9-47d6-eff1-2001b51609fc"
      },
      "execution_count": null,
      "outputs": [
        {
          "output_type": "stream",
          "name": "stdout",
          "text": [
            "array('i', [1, 10, 2, 3, 4, 5, 6, 7])\n"
          ]
        }
      ]
    },
    {
      "cell_type": "markdown",
      "source": [
        "# **Note on type compatibility**\n",
        "\n",
        "When you add items, they must be of the correct type (matching the typecode). If you insert a wrong type, you’ll get a TypeError.\n",
        "\n",
        "Limitations\n",
        "\n",
        "The array module arrays support many of these methods, but not all list methods.\n",
        "\n",
        "Also inserting into large arrays (especially at front or middle) can be less efficient (shifting elements).\n",
        "\n",
        "Lists remain more flexible for arbitrary operations."
      ],
      "metadata": {
        "id": "pDjNntRDk-cy"
      }
    },
    {
      "cell_type": "code",
      "source": [
        "'''Remove Array Items\n",
        "\n",
        "How to remove elements from arrays:\n",
        "\n",
        "remove(value)\n",
        "\n",
        "Removes the first occurrence of value:'''\n",
        "\n",
        "a = array.array('i', [1,10,2,3,4,5])\n",
        "a.remove(10)\n",
        "print(a)"
      ],
      "metadata": {
        "colab": {
          "base_uri": "https://localhost:8080/"
        },
        "id": "ew55JW-Nk6Fr",
        "outputId": "117531c1-9dc3-4366-cf53-7243c11b524f"
      },
      "execution_count": null,
      "outputs": [
        {
          "output_type": "stream",
          "name": "stdout",
          "text": [
            "array('i', [1, 2, 3, 4, 5])\n"
          ]
        }
      ]
    },
    {
      "cell_type": "code",
      "source": [
        "'''pop(index)\n",
        "\n",
        "Removes and returns element at given index. If no index, removes last.'''\n",
        "\n",
        "val = a.pop(2)   # removes element at index 2\n",
        "print(val)\n",
        "print(a)"
      ],
      "metadata": {
        "colab": {
          "base_uri": "https://localhost:8080/"
        },
        "id": "tBhVsF6SlFbE",
        "outputId": "2946a077-adfd-4164-e9c0-f508975ffe8c"
      },
      "execution_count": null,
      "outputs": [
        {
          "output_type": "stream",
          "name": "stdout",
          "text": [
            "3\n",
            "array('i', [1, 2, 4, 5])\n"
          ]
        }
      ]
    },
    {
      "cell_type": "code",
      "source": [
        "#del keyword\n",
        "\n",
        "#You can use del to remove elements:\n",
        "\n",
        "del a[0]\n",
        "print(a)"
      ],
      "metadata": {
        "colab": {
          "base_uri": "https://localhost:8080/"
        },
        "id": "Gb9vbGqplI4t",
        "outputId": "461ff1e4-d1f4-4da9-94b6-b93bae7c0dd6"
      },
      "execution_count": null,
      "outputs": [
        {
          "output_type": "stream",
          "name": "stdout",
          "text": [
            "array('i', [2, 4, 5])\n"
          ]
        }
      ]
    },
    {
      "cell_type": "code",
      "source": [
        "#Clearing or deleting array\n",
        "\n",
        "#If you want to remove all elements:\n",
        "\n",
        "a = array.array('i')\n",
        "# Or just reinitialize: a = array.array('i', [])"
      ],
      "metadata": {
        "id": "PvcwNSF6lJzG"
      },
      "execution_count": null,
      "outputs": []
    },
    {
      "cell_type": "markdown",
      "source": [
        "# **Note: behavior when value not found**\n",
        "\n",
        "Using remove() with a value that doesn’t exist will raise a ValueError. You must handle that or check membership first.\n",
        "\n",
        "Efficiency considerations\n",
        "\n",
        "Removing elements (especially from front) may require shifting elements, which is O(n) operation in worst case."
      ],
      "metadata": {
        "id": "ibRnNUuwlOjA"
      }
    },
    {
      "cell_type": "markdown",
      "source": [
        "| Topic                   | Key points                                                                        |\n",
        "| ----------------------- | --------------------------------------------------------------------------------- |\n",
        "| Creation & Basics       | `array(typecode, initializer)` – homogeneous type, typecode set up                |\n",
        "| Access items            | Use index `[i]`, negative index, slicing, iteration                               |\n",
        "| Add items               | `append()`, `insert()`, `extend()` (same type constraint)                         |\n",
        "| Remove items            | `remove(value)`, `pop(index)`, `del`, clear full array                            |\n",
        "| Change items            | Assignment via index (e.g., `a[i] = new_value`)                                   |\n",
        "| Looping/Traversal       | `for element in a:`, `for i in range(len(a)):` etc                                |\n",
        "| Type & Efficiency       | Homogeneous data type => less overhead; good for numbers                          |\n",
        "| Module vs List vs NumPy | `array` module for homogeneous, list for mixed, NumPy for advanced numeric arrays |\n"
      ],
      "metadata": {
        "id": "hztBmmXwlXqF"
      }
    },
    {
      "cell_type": "markdown",
      "source": [
        "# **Loop arrays** — all ways to iterate (and when to prefer each)\n",
        "\n",
        "You can loop arrays the same way you loop lists."
      ],
      "metadata": {
        "id": "vlrnZQNRmbFx"
      }
    },
    {
      "cell_type": "code",
      "source": [
        "#Example data:\n",
        "\n",
        "import array\n",
        "a = array.array('i', [10, 20, 30, 40])\n",
        "\n",
        "\n",
        "'''Ways to loop:\n",
        "\n",
        "Simple element iteration (most Pythonic):'''\n",
        "\n",
        "for x in a:\n",
        "    print(x)\n",
        "\n",
        "\n",
        "#Index-based (when you need indexes):\n",
        "\n",
        "for i in range(len(a)):\n",
        "    print(i, a[i])\n",
        "\n",
        "\n",
        "#Enumerate (index + value nicely):\n",
        "\n",
        "for i, val in enumerate(a):\n",
        "    print(i, val)\n",
        "\n",
        "\n",
        "#While loop (rare):\n",
        "\n",
        "i = 0\n",
        "while i < len(a):\n",
        "    print(a[i])\n",
        "    i += 1"
      ],
      "metadata": {
        "colab": {
          "base_uri": "https://localhost:8080/"
        },
        "id": "0a5NShZYlMj5",
        "outputId": "538b8872-ae56-46e3-9a18-f4a25085047e"
      },
      "execution_count": null,
      "outputs": [
        {
          "output_type": "stream",
          "name": "stdout",
          "text": [
            "10\n",
            "20\n",
            "30\n",
            "40\n",
            "0 10\n",
            "1 20\n",
            "2 30\n",
            "3 40\n",
            "0 10\n",
            "1 20\n",
            "2 30\n",
            "3 40\n",
            "10\n",
            "20\n",
            "30\n",
            "40\n"
          ]
        }
      ]
    },
    {
      "cell_type": "markdown",
      "source": [
        "Notes & performance: iteration over array and list has similar complexity (O(n)). For numeric heavy loops in pure Python, you still pay Python overhead per element — for large numeric workloads, NumPy vectorized ops are far faster."
      ],
      "metadata": {
        "id": "-hvD9vW3mm-d"
      }
    },
    {
      "cell_type": "markdown",
      "source": [
        "# **Copy arrays** — reference vs shallow copy vs deep copy (pitfalls)"
      ],
      "metadata": {
        "id": "mlKrftyrmr2u"
      }
    },
    {
      "cell_type": "code",
      "source": [
        "#Assignment (not a copy)\n",
        "b = a  # both names point to same array object\n",
        "b.append(50)\n",
        "# a is changed too\n",
        "\n",
        "\n",
        "#This is just a reference assignment (no copying).\n",
        "\n",
        "#Shallow copy (array module)\n",
        "\n",
        "#Options:\n",
        "\n",
        "# b = a.copy()          # array.copy() returns a shallow copy (new array object) - This method is not available for array.array objects.\n",
        "b = array.array(a.typecode, a)   # construct from iterable\n",
        "b = a[:] # This is a common and concise way to create a shallow copy"
      ],
      "metadata": {
        "id": "wZoauG7ZmpLa"
      },
      "execution_count": null,
      "outputs": []
    },
    {
      "cell_type": "markdown",
      "source": [
        "# **Deep copy**\n",
        "\n",
        "For array.array holding primitive types there’s normally no nested reference to copy — copy.copy() (shallow) or arr.copy() suffices.\n",
        "\n",
        "But if you have a Python sequence of objects or nested structures (more typical with lists), use copy.deepcopy() from the copy module to recursively copy nested objects. Shallow vs deep copy differences are documented in the Python copy docs.\n",
        "Python documentation\n",
        "\n",
        "Summary / gotcha: for array.array (homogeneous primitives) arr.copy() or arr[:] gives an independent new array. For lists of mutable objects, beware shallow copy only replicates the container not the nested objects."
      ],
      "metadata": {
        "id": "SLc0toTUmzXJ"
      }
    },
    {
      "cell_type": "markdown",
      "source": [
        "# **Reverse arrays** — multiple correct methods (in-place and new sequence)"
      ],
      "metadata": {
        "id": "ygzLYDU6m4c1"
      }
    },
    {
      "cell_type": "code",
      "source": [
        "#Method A — in-place reverse() (array supports this)\n",
        "a.reverse()\n",
        "# now a == array('i', [4,3,2,1])\n",
        "\n",
        "\n",
        "#reverse() modifies the array and is O(n).\n",
        "\n",
        "\n",
        "#Method B — reversed() (returns iterator), then build a new array\n",
        "rev_iter = reversed(a)           # iterator\n",
        "b = array.array(a.typecode, rev_iter)  # b is reversed copy\n",
        "\n",
        "#Method C — slicing (creates a new array)\n",
        "b = a[::-1]  # creates new array with reversed order\n",
        "\n",
        "#Method D — convert to list and use list methods (not ideal)\n",
        "lst = list(a)\n",
        "lst.reverse()\n",
        "a = array.array(a.typecode, lst)"
      ],
      "metadata": {
        "id": "vTGEbCXbm6jI"
      },
      "execution_count": null,
      "outputs": []
    },
    {
      "cell_type": "markdown",
      "source": [
        "# **Sort arrays** — in-place vs returning sorted copy, stable sort notes\n",
        "\n",
        "array.array does not implement a .sort() method as lists do."
      ],
      "metadata": {
        "id": "SIErTVlhnYg9"
      }
    },
    {
      "cell_type": "code",
      "source": [
        "#Option 1 — convert to list, sort, convert back\n",
        "\n",
        "lst = list(a)\n",
        "lst.sort()               # in-place sort (Timsort; stable)\n",
        "a = array.array(a.typecode, lst)\n",
        "\n",
        "\n",
        "#Option 2 — use sorted() to get sorted sequence and rebuild array\n",
        "\n",
        "a = array.array(a.typecode, sorted(a))"
      ],
      "metadata": {
        "id": "qH6Lv_Zxna67"
      },
      "execution_count": null,
      "outputs": []
    },
    {
      "cell_type": "markdown",
      "source": [
        "# **Key points about sorting in Python:**\n",
        "\n",
        "list.sort() sorts a list in place and returns None. sorted(iterable) returns a new sorted list (does not modify original). This difference matters when deciding whether you want an in-place change or a new sequence. The Python docs and many references explain sort() vs sorted().\n",
        "Stack Overflow\n",
        "+1\n",
        "\n",
        "Python’s sort is stable (equal elements retain relative order). If you need to sort arrays of primitives, converting to a list and using list sorting is the easy route.\n",
        "\n",
        "Performance: sorting is O(n log n) — converting to/from arrays costs O(n) as well, so total cost dominated by the sort."
      ],
      "metadata": {
        "id": "rir_R3FGngbQ"
      }
    },
    {
      "cell_type": "markdown",
      "source": [
        "join / concatenate arrays — pure Python and NumPy ways\n",
        "Pure array module: extend() or repeated + construction"
      ],
      "metadata": {
        "id": "ognJt_RHnpg1"
      }
    },
    {
      "cell_type": "code",
      "source": [
        "a = array.array('i', [1,2,3])\n",
        "b = array.array('i', [4,5])\n",
        "#Extend in place:\n",
        "\n",
        "\n",
        "a.extend(b)   # a becomes array('i', [1,2,3,4,5])\n",
        "#Construct new array by concatenation:\n",
        "\n",
        "\n",
        "#Copy code\n",
        "c = array.array(a.typecode, a)\n",
        "c.extend(b)\n",
        "# or\n",
        "c = array.array(a.typecode, a) + array.array(a.typecode, b)"
      ],
      "metadata": {
        "id": "pvL1eI59ndtJ"
      },
      "execution_count": null,
      "outputs": []
    },
    {
      "cell_type": "markdown",
      "source": [
        "array supports concatenation with + (creates new array of same typecode). Use extend() for in-place extension (preferred when building up a big array iteratively)."
      ],
      "metadata": {
        "id": "APR4Nxxfn2uu"
      }
    },
    {
      "cell_type": "code",
      "source": [
        "#Array methods — complete tour for array.array (stdlib)\n",
        "\n",
        "#These are most commonly useful array methods and attributes (with short explanation + example). See Python docs for full reference.\n",
        "\n",
        "#array(typecode, initializer) — create array.\n",
        "\n",
        "a = array.array('i', [1,2,3])\n",
        "\n",
        "\n",
        "#Attributes\n",
        "\n",
        "'''a.typecode — type code.\n",
        "\n",
        "a.itemsize — bytes per element.\n",
        "\n",
        "a.buffer_info() — (address, length) low-level info.\n",
        "\n",
        "Mutation / access\n",
        "\n",
        "a.append(x) — add element to end.\n",
        "\n",
        "a.append(4)\n",
        "\n",
        "\n",
        "a.extend(iterable_or_array) — append elements from another array or iterable.\n",
        "\n",
        "a.extend([5,6])\n",
        "\n",
        "\n",
        "a.insert(i, x) — insert at index i.\n",
        "\n",
        "a.remove(x) — remove first occurrence of x, raises ValueError if not present.\n",
        "\n",
        "a.pop([i]) — remove and return element at i (or last if omitted).\n",
        "\n",
        "a.index(x) — return index of first occurrence of x.\n",
        "\n",
        "a.count(x) — return number of occurrences.\n",
        "\n",
        "a.reverse() — reverse in place.\n",
        "\n",
        "a.buffer_info() — low-level memory info.\n",
        "\n",
        "a.byteswap() — swap bytes of each item (useful for endian conversion).\n",
        "\n",
        "a.tolist() — return Python list copy of elements.\n",
        "\n",
        "a.tobytes() / frombytes() — convert to/from raw bytes (useful for binary I/O).\n",
        "\n",
        "del a[i] — delete by index; del a[i:j] delete slice.\n",
        "\n",
        "Slicing a[i:j] returns an array object of same typecode.\n",
        "\n",
        "Examples:\n",
        "\n",
        "import array\n",
        "a = array.array('i', [1,2,3])\n",
        "a.insert(1, 10)          # array('i', [1,10,2,3])\n",
        "a.remove(10)             # array('i', [1,2,3])\n",
        "x = a.pop()              # x == 3\n",
        "a.extend([4,5])          # array('i', [1,2,4,5])\n",
        "b = a.tolist()           # [1,2,4,5]\n",
        "a_bytes = a.tobytes()    # binary representation\n",
        "\n",
        "\n",
        "Edge cases / errors:\n",
        "\n",
        "Adding an element of wrong type or out of range for the typecode raises TypeError or OverflowError.\n",
        "\n",
        "remove() on missing value → ValueError. Always validate or handle exceptions.\n",
        "\n",
        "9) Practical examples & recipes (copyable)\n",
        "Create and inspect:\n",
        "import array\n",
        "a = array.array('i', range(1,6))\n",
        "print(a, a.typecode, a.itemsize, a.buffer_info())\n",
        "\n",
        "Loop + modify:\n",
        "for i in range(len(a)):\n",
        "    a[i] *= 2   # doubling each element\n",
        "\n",
        "Copy safely:\n",
        "b = a.copy()   # independent\n",
        "c = a[:]       # also independent\n",
        "\n",
        "Reverse in place:\n",
        "a.reverse()\n",
        "\n",
        "Sorted copy:\n",
        "sorted_copy = array.array(a.typecode, sorted(a))\n",
        "\n",
        "Join arrays:\n",
        "a.extend(array.array('i', [7,8]))\n",
        "# or new array\n",
        "c = a + array.array('i', [9,10])\n",
        "\n",
        "Bytes / IO:\n",
        "data = a.tobytes()\n",
        "# write to binary file; reconstruct with frombytes()\n",
        "new = array.array('i')\n",
        "new.frombytes(data)'''\n"
      ],
      "metadata": {
        "colab": {
          "base_uri": "https://localhost:8080/",
          "height": 140
        },
        "id": "lTEM9dTNnx8F",
        "outputId": "f454186b-4070-4abd-8f6a-e48ce290308d"
      },
      "execution_count": null,
      "outputs": [
        {
          "output_type": "execute_result",
          "data": {
            "text/plain": [
              "\"a.typecode — type code.\\n\\na.itemsize — bytes per element.\\n\\na.buffer_info() — (address, length) low-level info.\\n\\nMutation / access\\n\\na.append(x) — add element to end.\\n\\na.append(4)\\n\\n\\na.extend(iterable_or_array) — append elements from another array or iterable.\\n\\na.extend([5,6])\\n\\n\\na.insert(i, x) — insert at index i.\\n\\na.remove(x) — remove first occurrence of x, raises ValueError if not present.\\n\\na.pop([i]) — remove and return element at i (or last if omitted).\\n\\na.index(x) — return index of first occurrence of x.\\n\\na.count(x) — return number of occurrences.\\n\\na.reverse() — reverse in place.\\n\\na.buffer_info() — low-level memory info.\\n\\na.byteswap() — swap bytes of each item (useful for endian conversion).\\n\\na.tolist() — return Python list copy of elements.\\n\\na.tobytes() / frombytes() — convert to/from raw bytes (useful for binary I/O).\\n\\ndel a[i] — delete by index; del a[i:j] delete slice.\\n\\nSlicing a[i:j] returns an array object of same typecode.\\n\\nExamples:\\n\\nimport array\\na = array.array('i', [1,2,3])\\na.insert(1, 10)          # array('i', [1,10,2,3])\\na.remove(10)             # array('i', [1,2,3])\\nx = a.pop()              # x == 3\\na.extend([4,5])          # array('i', [1,2,4,5])\\nb = a.tolist()           # [1,2,4,5]\\na_bytes = a.tobytes()    # binary representation\\n\\n\\nEdge cases / errors:\\n\\nAdding an element of wrong type or out of range for the typecode raises TypeError or OverflowError.\\n\\nremove() on missing value → ValueError. Always validate or handle exceptions.\\n\\n9) Practical examples & recipes (copyable)\\nCreate and inspect:\\nimport array\\na = array.array('i', range(1,6))\\nprint(a, a.typecode, a.itemsize, a.buffer_info()) \\n\\nLoop + modify:\\nfor i in range(len(a)):\\n    a[i] *= 2   # doubling each element\\n\\nCopy safely:\\nb = a.copy()   # independent\\nc = a[:]       # also independent\\n\\nReverse in place:\\na.reverse()\\n\\nSorted copy:\\nsorted_copy = array.array(a.typecode, sorted(a))\\n\\nJoin arrays:\\na.extend(array.array('i', [7,8]))\\n# or new array\\nc = a + array.array('i', [9,10])\\n\\nBytes / IO:\\ndata = a.tobytes()\\n# write to binary file; reconstruct with frombytes()\\nnew = array.array('i')\\nnew.frombytes(data)\""
            ],
            "application/vnd.google.colaboratory.intrinsic+json": {
              "type": "string"
            }
          },
          "metadata": {},
          "execution_count": 26
        }
      ]
    },
    {
      "cell_type": "markdown",
      "source": [
        "# performance & memory notes\n",
        "\n",
        "array.array stores elements as compact C arrays — lower overhead per element compared to a list of Python objects; good when memory matters and elements are primitive numeric types.\n",
        "Real Python\n",
        "+1\n",
        "\n",
        "However, iteration in pure Python still has per-element Python overhead; for heavy numeric work prefer NumPy (vectorized operations) for orders-of-magnitude speedups.\n",
        "Real Python\n",
        "\n",
        "Inserting/removing near the front of a dynamic array (both lists and array.array) requires shifting elements (O(n)). Append at end is amortized O(1)."
      ],
      "metadata": {
        "id": "yyRsFtd-oJpX"
      }
    },
    {
      "cell_type": "markdown",
      "source": [],
      "metadata": {
        "id": "qZ64JRS6oPTI"
      }
    }
  ]
}