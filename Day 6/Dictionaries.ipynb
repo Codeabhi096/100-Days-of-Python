{
  "nbformat": 4,
  "nbformat_minor": 0,
  "metadata": {
    "colab": {
      "provenance": []
    },
    "kernelspec": {
      "name": "python3",
      "display_name": "Python 3"
    },
    "language_info": {
      "name": "python"
    }
  },
  "cells": [
    {
      "cell_type": "markdown",
      "source": [
        "\n",
        "# **What is a Dictionary?**\n",
        "\n",
        "A dictionary in Python is a built-in data type used to store data in key–value pairs.\n",
        "Each value is associated with a unique key.\n",
        "\n",
        "\n",
        "Key Features:\n",
        "\n",
        "Keys must be unique (duplicates not allowed).\n",
        "\n",
        "Keys must be immutable (e.g., string, number, or tuple).\n",
        "\n",
        "Values can be of any type (string, list, another dictionary, etc.).\n",
        "\n",
        "Dictionaries are ordered (from Python 3.7 onwards, they remember insertion order)."
      ],
      "metadata": {
        "id": "gdU6GyHIbBqZ"
      }
    },
    {
      "cell_type": "code",
      "execution_count": 1,
      "metadata": {
        "colab": {
          "base_uri": "https://localhost:8080/"
        },
        "id": "vl4yUqyWbAB8",
        "outputId": "69de3e25-ef32-40c1-d30a-148b3fde5656"
      },
      "outputs": [
        {
          "output_type": "stream",
          "name": "stdout",
          "text": [
            "{'name': 'Aman', 'age': 21, 'subjects': ['Math', 'Physics', 'Chemistry']}\n"
          ]
        }
      ],
      "source": [
        "student = {\n",
        "    \"name\": \"Aman\",\n",
        "    \"age\": 21,\n",
        "    \"subjects\": [\"Math\", \"Physics\", \"Chemistry\"]\n",
        "}\n",
        "\n",
        "print(student)\n"
      ]
    },
    {
      "cell_type": "markdown",
      "source": [
        "# **Access Dictionary Items**"
      ],
      "metadata": {
        "id": "XW52tpfTeBCQ"
      }
    },
    {
      "cell_type": "code",
      "source": [
        "#Access using a Key:\n",
        "student = {\"name\": \"Aman\", \"age\": 21}\n",
        "print(student[\"name\"] , student[\"age\"])"
      ],
      "metadata": {
        "colab": {
          "base_uri": "https://localhost:8080/"
        },
        "id": "uIIQvvNAeDyU",
        "outputId": "5091ecc0-2aa6-4f05-8658-ac6befb44e2b"
      },
      "execution_count": 3,
      "outputs": [
        {
          "output_type": "stream",
          "name": "stdout",
          "text": [
            "Aman 21\n"
          ]
        }
      ]
    },
    {
      "cell_type": "code",
      "source": [
        "#Access using the get() method:\n",
        "print(student.get(\"age\"))\n",
        "print(student.get(\"city\"))"
      ],
      "metadata": {
        "colab": {
          "base_uri": "https://localhost:8080/"
        },
        "id": "nY78YjTteG0v",
        "outputId": "374953cb-235b-4c49-a41d-b60e34e2a53b"
      },
      "execution_count": 4,
      "outputs": [
        {
          "output_type": "stream",
          "name": "stdout",
          "text": [
            "21\n",
            "None\n"
          ]
        }
      ]
    },
    {
      "cell_type": "code",
      "source": [
        "#Get all keys, values, or items:\n",
        "print(student.keys())\n",
        "print(student.values())\n",
        "print(student.items())"
      ],
      "metadata": {
        "colab": {
          "base_uri": "https://localhost:8080/"
        },
        "id": "KpJA_9YbeJMU",
        "outputId": "9ba23485-0ded-4409-ed69-4fa239aa5dc4"
      },
      "execution_count": 5,
      "outputs": [
        {
          "output_type": "stream",
          "name": "stdout",
          "text": [
            "dict_keys(['name', 'age'])\n",
            "dict_values(['Aman', 21])\n",
            "dict_items([('name', 'Aman'), ('age', 21)])\n"
          ]
        }
      ]
    },
    {
      "cell_type": "markdown",
      "source": [
        "# **Change Dictionary Items**"
      ],
      "metadata": {
        "id": "TFhxurV7eOAp"
      }
    },
    {
      "cell_type": "code",
      "source": [
        "#Modify a value:\n",
        "student = {\"name\": \"Aman\", \"age\": 21}\n",
        "student[\"age\"] = 22\n",
        "print(student)"
      ],
      "metadata": {
        "colab": {
          "base_uri": "https://localhost:8080/"
        },
        "id": "Qkpuamk9eLj3",
        "outputId": "70dc7ccb-41a5-433e-9dd6-951c4feae6f4"
      },
      "execution_count": 6,
      "outputs": [
        {
          "output_type": "stream",
          "name": "stdout",
          "text": [
            "{'name': 'Aman', 'age': 22}\n"
          ]
        }
      ]
    },
    {
      "cell_type": "code",
      "source": [
        "#Update multiple values using update():\n",
        "student.update({\"age\": 23, \"city\": \"Delhi\"})\n",
        "print(student)"
      ],
      "metadata": {
        "colab": {
          "base_uri": "https://localhost:8080/"
        },
        "id": "TY_ayJA1eUBv",
        "outputId": "dfe94c5c-1184-4a4f-9c6b-4802cf4d13bb"
      },
      "execution_count": 7,
      "outputs": [
        {
          "output_type": "stream",
          "name": "stdout",
          "text": [
            "{'name': 'Aman', 'age': 23, 'city': 'Delhi'}\n"
          ]
        }
      ]
    },
    {
      "cell_type": "markdown",
      "source": [
        "# **Add Dictionary Items**"
      ],
      "metadata": {
        "id": "FXWiXFBNeWy8"
      }
    },
    {
      "cell_type": "code",
      "source": [
        "#Add a single new key-value pair:\n",
        "student = {\"name\": \"Aman\", \"age\": 21}\n",
        "student[\"city\"] = \"Mumbai\"\n",
        "print(student)"
      ],
      "metadata": {
        "colab": {
          "base_uri": "https://localhost:8080/"
        },
        "id": "6YGbBfGveUpp",
        "outputId": "e1d00655-135f-41d7-cc9c-9d0faaa7cae3"
      },
      "execution_count": 8,
      "outputs": [
        {
          "output_type": "stream",
          "name": "stdout",
          "text": [
            "{'name': 'Aman', 'age': 21, 'city': 'Mumbai'}\n"
          ]
        }
      ]
    },
    {
      "cell_type": "code",
      "source": [
        "#Add multiple items using update():\n",
        "student.update({\"grade\": \"A\", \"roll_no\": 101})\n",
        "print(student)"
      ],
      "metadata": {
        "colab": {
          "base_uri": "https://localhost:8080/"
        },
        "id": "yjzrqQWSebH8",
        "outputId": "4d6a21b1-afa9-4427-c81b-c95581b66767"
      },
      "execution_count": 9,
      "outputs": [
        {
          "output_type": "stream",
          "name": "stdout",
          "text": [
            "{'name': 'Aman', 'age': 21, 'city': 'Mumbai', 'grade': 'A', 'roll_no': 101}\n"
          ]
        }
      ]
    },
    {
      "cell_type": "markdown",
      "source": [
        "# **Remove Dictionary Items**"
      ],
      "metadata": {
        "id": "AtmXCEIKef9C"
      }
    },
    {
      "cell_type": "code",
      "source": [
        "#Using pop(key):\n",
        "\n",
        "#Removes the item with the specified key and returns its value.\n",
        "\n",
        "student = {\"name\": \"Aman\", \"age\": 21, \"city\": \"Delhi\"}\n",
        "student.pop(\"city\")\n",
        "print(student)"
      ],
      "metadata": {
        "colab": {
          "base_uri": "https://localhost:8080/"
        },
        "id": "ToJDgxm1edtz",
        "outputId": "d9ed52b6-545a-421a-a722-53e7340566cf"
      },
      "execution_count": 10,
      "outputs": [
        {
          "output_type": "stream",
          "name": "stdout",
          "text": [
            "{'name': 'Aman', 'age': 21}\n"
          ]
        }
      ]
    },
    {
      "cell_type": "code",
      "source": [
        "'''Using popitem():\n",
        "\n",
        "Removes the last inserted key-value pair.\n",
        "\n",
        "student.popitem()'''"
      ],
      "metadata": {
        "colab": {
          "base_uri": "https://localhost:8080/",
          "height": 35
        },
        "id": "iuA7Qc4jej5V",
        "outputId": "c6adcb3e-2029-4d7c-df7b-80e0d96c3d50"
      },
      "execution_count": 11,
      "outputs": [
        {
          "output_type": "execute_result",
          "data": {
            "text/plain": [
              "'Using popitem():\\n\\nRemoves the last inserted key-value pair.\\n\\nstudent.popitem()'"
            ],
            "application/vnd.google.colaboratory.intrinsic+json": {
              "type": "string"
            }
          },
          "metadata": {},
          "execution_count": 11
        }
      ]
    },
    {
      "cell_type": "code",
      "source": [
        "#Using del keyword:\n",
        "del student[\"age\"]\n",
        "print(student)"
      ],
      "metadata": {
        "colab": {
          "base_uri": "https://localhost:8080/"
        },
        "id": "W3Z8-O7Jened",
        "outputId": "732858f8-ff49-4e50-f004-bdb7022f8c7a"
      },
      "execution_count": 12,
      "outputs": [
        {
          "output_type": "stream",
          "name": "stdout",
          "text": [
            "{'name': 'Aman'}\n"
          ]
        }
      ]
    },
    {
      "cell_type": "code",
      "source": [
        "'''Using clear():\n",
        "\n",
        "Clears all items in the dictionary.'''\n",
        "\n",
        "student.clear()\n",
        "print(student)"
      ],
      "metadata": {
        "colab": {
          "base_uri": "https://localhost:8080/"
        },
        "id": "5b3n5WXVewPJ",
        "outputId": "59ebbea9-f417-4411-edb4-df1a0103c552"
      },
      "execution_count": 13,
      "outputs": [
        {
          "output_type": "stream",
          "name": "stdout",
          "text": [
            "{}\n"
          ]
        }
      ]
    },
    {
      "cell_type": "markdown",
      "source": [
        "# **Dictionary View Objects**\n",
        "\n",
        "Python provides three view objects for dictionaries:\n",
        "\n",
        "dict.keys() → returns all keys\n",
        "\n",
        "dict.values() → returns all values\n",
        "\n",
        "dict.items() → returns all key-value pairs\n",
        "\n",
        "These are live views, meaning they automatically update when the dictionary changes"
      ],
      "metadata": {
        "id": "Y9Fl55qJe1hL"
      }
    },
    {
      "cell_type": "code",
      "source": [
        "student = {\"name\": \"Aman\", \"age\": 21}\n",
        "\n",
        "keys_view = student.keys()\n",
        "print(keys_view)   # dict_keys(['name', 'age'])\n",
        "\n",
        "# Add a new item\n",
        "student[\"city\"] = \"Delhi\"\n",
        "\n",
        "print(keys_view)   # dict_keys(['name', 'age', 'city'])  ← updated automatically!\n"
      ],
      "metadata": {
        "colab": {
          "base_uri": "https://localhost:8080/"
        },
        "id": "F9BsoHHdezSh",
        "outputId": "fd5c6d8b-2978-4fcb-c8e2-47f8dcae9d13"
      },
      "execution_count": 14,
      "outputs": [
        {
          "output_type": "stream",
          "name": "stdout",
          "text": [
            "dict_keys(['name', 'age'])\n",
            "dict_keys(['name', 'age', 'city'])\n"
          ]
        }
      ]
    },
    {
      "cell_type": "code",
      "source": [
        "#Loop through items:\n",
        "for key, value in student.items():\n",
        "    print(key, \":\", value)"
      ],
      "metadata": {
        "colab": {
          "base_uri": "https://localhost:8080/"
        },
        "id": "ASaRpUMRe6K8",
        "outputId": "502bdfa6-d7db-4d91-df51-d08960f57822"
      },
      "execution_count": 15,
      "outputs": [
        {
          "output_type": "stream",
          "name": "stdout",
          "text": [
            "name : Aman\n",
            "age : 21\n",
            "city : Delhi\n"
          ]
        }
      ]
    },
    {
      "cell_type": "markdown",
      "source": [
        "# ** Python – Loop Dictionaries**\n",
        "\n",
        "You can loop through dictionaries to access keys, values, or both."
      ],
      "metadata": {
        "id": "cVJR4BHNf9dx"
      }
    },
    {
      "cell_type": "code",
      "source": [
        "#Loop through Keys:\n",
        "student = {\"name\": \"Aman\", \"age\": 21, \"city\": \"Delhi\"}\n",
        "\n",
        "for key in student:\n",
        "    print(key)"
      ],
      "metadata": {
        "colab": {
          "base_uri": "https://localhost:8080/"
        },
        "id": "yYQdryqYgDsi",
        "outputId": "35451f24-9a79-46a5-901f-2000296bffa8"
      },
      "execution_count": 16,
      "outputs": [
        {
          "output_type": "stream",
          "name": "stdout",
          "text": [
            "name\n",
            "age\n",
            "city\n"
          ]
        }
      ]
    },
    {
      "cell_type": "code",
      "source": [
        "#Loop through Values:\n",
        "for value in student.values():\n",
        "    print(value)"
      ],
      "metadata": {
        "colab": {
          "base_uri": "https://localhost:8080/"
        },
        "id": "7HJOG3EagMft",
        "outputId": "c48b3530-a4df-4ade-ef82-880d21e05b36"
      },
      "execution_count": 17,
      "outputs": [
        {
          "output_type": "stream",
          "name": "stdout",
          "text": [
            "Aman\n",
            "21\n",
            "Delhi\n"
          ]
        }
      ]
    },
    {
      "cell_type": "code",
      "source": [
        "#Loop through Both (key-value pairs):\n",
        "for key, value in student.items():\n",
        "    print(key, \":\", value)"
      ],
      "metadata": {
        "colab": {
          "base_uri": "https://localhost:8080/"
        },
        "id": "mHYrShnSgQ58",
        "outputId": "b1e9f728-79e7-4138-94d9-af8c2ddc1941"
      },
      "execution_count": 18,
      "outputs": [
        {
          "output_type": "stream",
          "name": "stdout",
          "text": [
            "name : Aman\n",
            "age : 21\n",
            "city : Delhi\n"
          ]
        }
      ]
    },
    {
      "cell_type": "code",
      "source": [
        "#Print formatted sentence\n",
        "for key, value in student.items():\n",
        "    print(f\"The student's {key} is {value}\")"
      ],
      "metadata": {
        "colab": {
          "base_uri": "https://localhost:8080/"
        },
        "id": "YWUu0tC3gTRY",
        "outputId": "d4bf5c19-286e-4d7e-b004-1419df87f6af"
      },
      "execution_count": 19,
      "outputs": [
        {
          "output_type": "stream",
          "name": "stdout",
          "text": [
            "The student's name is Aman\n",
            "The student's age is 21\n",
            "The student's city is Delhi\n"
          ]
        }
      ]
    },
    {
      "cell_type": "markdown",
      "source": [
        "# **Python – Copy Dictionaries**\n",
        "\n",
        "If you assign one dictionary to another variable directly, both will point to the same memory location (so changes affect both).\n",
        "To avoid that, we use copy methods."
      ],
      "metadata": {
        "id": "C8ldxCYxgYbS"
      }
    },
    {
      "cell_type": "code",
      "source": [
        "#Using copy() method:\n",
        "dict1 = {\"name\": \"Aman\", \"age\": 21}\n",
        "dict2 = dict1.copy()\n",
        "dict2[\"age\"] = 25\n",
        "print(dict1)  # {'name': 'Aman', 'age': 21}\n",
        "print(dict2)"
      ],
      "metadata": {
        "colab": {
          "base_uri": "https://localhost:8080/"
        },
        "id": "SNgt4fWPgaR8",
        "outputId": "682a0fd5-b30e-4fed-886a-7cff133b02c8"
      },
      "execution_count": 20,
      "outputs": [
        {
          "output_type": "stream",
          "name": "stdout",
          "text": [
            "{'name': 'Aman', 'age': 21}\n",
            "{'name': 'Aman', 'age': 25}\n"
          ]
        }
      ]
    },
    {
      "cell_type": "code",
      "source": [
        "#Using dict() constructor:\n",
        "dict3 = dict(dict1)\n",
        "print(dict3)"
      ],
      "metadata": {
        "colab": {
          "base_uri": "https://localhost:8080/"
        },
        "id": "stx4afBWgd8R",
        "outputId": "1f457ea3-fd8c-44eb-db9b-57528f9c9904"
      },
      "execution_count": 21,
      "outputs": [
        {
          "output_type": "stream",
          "name": "stdout",
          "text": [
            "{'name': 'Aman', 'age': 21}\n"
          ]
        }
      ]
    },
    {
      "cell_type": "markdown",
      "source": [
        "Note: Both create a shallow copy (they don’t copy nested structures fully — for that use copy.deepcopy() from the copy module)."
      ],
      "metadata": {
        "id": "KzcbN78YgjA2"
      }
    },
    {
      "cell_type": "markdown",
      "source": [
        "# **Nested Dictionaries**\n",
        "\n",
        "A nested dictionary means having dictionaries inside another dictionary."
      ],
      "metadata": {
        "id": "lPslYupUgmxp"
      }
    },
    {
      "cell_type": "code",
      "source": [
        "students = {\n",
        "    \"student1\": {\"name\": \"Aman\", \"age\": 21},\n",
        "    \"student2\": {\"name\": \"Riya\", \"age\": 22},\n",
        "    \"student3\": {\"name\": \"Karan\", \"age\": 20}\n",
        "}\n",
        "print(students)\n"
      ],
      "metadata": {
        "colab": {
          "base_uri": "https://localhost:8080/"
        },
        "id": "0R210JXWgf_Y",
        "outputId": "f3be5b0a-5748-4fcf-b591-81f0f5686748"
      },
      "execution_count": 23,
      "outputs": [
        {
          "output_type": "stream",
          "name": "stdout",
          "text": [
            "{'student1': {'name': 'Aman', 'age': 21}, 'student2': {'name': 'Riya', 'age': 22}, 'student3': {'name': 'Karan', 'age': 20}}\n"
          ]
        }
      ]
    },
    {
      "cell_type": "code",
      "source": [
        "#Access Nested Data:\n",
        "print(students[\"student2\"][\"name\"])"
      ],
      "metadata": {
        "colab": {
          "base_uri": "https://localhost:8080/"
        },
        "id": "747ivfzwgrly",
        "outputId": "ad1e134e-800f-434e-db28-47845c05cffb"
      },
      "execution_count": 24,
      "outputs": [
        {
          "output_type": "stream",
          "name": "stdout",
          "text": [
            "Riya\n"
          ]
        }
      ]
    },
    {
      "cell_type": "code",
      "source": [
        "#Add New Nested Dictionary:\n",
        "students[\"student4\"] = {\"name\": \"Neha\", \"age\": 19}\n",
        "print(students)"
      ],
      "metadata": {
        "colab": {
          "base_uri": "https://localhost:8080/"
        },
        "id": "hMsVxiAMgtu2",
        "outputId": "e765a87e-e5c8-45bc-a92a-d37070194f66"
      },
      "execution_count": 25,
      "outputs": [
        {
          "output_type": "stream",
          "name": "stdout",
          "text": [
            "{'student1': {'name': 'Aman', 'age': 21}, 'student2': {'name': 'Riya', 'age': 22}, 'student3': {'name': 'Karan', 'age': 20}, 'student4': {'name': 'Neha', 'age': 19}}\n"
          ]
        }
      ]
    },
    {
      "cell_type": "code",
      "source": [
        "#Loop Through Nested Dictionaries:\n",
        "for key, info in students.items():\n",
        "    print(key)\n",
        "    for sub_key, sub_value in info.items():\n",
        "        print(f\"  {sub_key}: {sub_value}\")"
      ],
      "metadata": {
        "colab": {
          "base_uri": "https://localhost:8080/"
        },
        "id": "V2HHk6CZgxha",
        "outputId": "38de4fce-4925-4de7-c12b-2bb90c442b65"
      },
      "execution_count": 26,
      "outputs": [
        {
          "output_type": "stream",
          "name": "stdout",
          "text": [
            "student1\n",
            "  name: Aman\n",
            "  age: 21\n",
            "student2\n",
            "  name: Riya\n",
            "  age: 22\n",
            "student3\n",
            "  name: Karan\n",
            "  age: 20\n",
            "student4\n",
            "  name: Neha\n",
            "  age: 19\n"
          ]
        }
      ]
    },
    {
      "cell_type": "markdown",
      "source": [
        "# **Python – Dictionary Methods**\n",
        "\n",
        "Here’s a list of commonly used dictionary methods:\n",
        "\n",
        "\n",
        "clear()\tRemoves all items\n",
        "\n",
        "\n",
        "copy()\tReturns a shallow copy\n",
        "\n",
        "fromkeys(seq, value)\tCreates a new dict with given keys and value\n",
        "\n",
        "get(key, default)\tReturns value for key (default if missing)\td\n",
        "\n",
        "items()\tReturns all key-value pairs\n",
        "\n",
        "keys()\tReturns all keys\n",
        "\n",
        "values()\tReturns all values\n",
        "\n",
        "pop(key, default)\tRemoves key and returns its value\n",
        "\n",
        "popitem()\tRemoves last inserted pair\n",
        "\n",
        "setdefault(key, value)\tReturns value of key, inserts it if not found\tdict.setdefault(\"city\", \"Delhi\")\n",
        "\n",
        "update(dict2)\tUpdates dictionary with another"
      ],
      "metadata": {
        "id": "buqa1TAZg1mu"
      }
    }
  ]
}