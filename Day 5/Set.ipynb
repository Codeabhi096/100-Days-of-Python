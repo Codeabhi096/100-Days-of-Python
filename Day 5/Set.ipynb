{
  "nbformat": 4,
  "nbformat_minor": 0,
  "metadata": {
    "colab": {
      "provenance": []
    },
    "kernelspec": {
      "name": "python3",
      "display_name": "Python 3"
    },
    "language_info": {
      "name": "python"
    }
  },
  "cells": [
    {
      "cell_type": "markdown",
      "source": [
        "\n",
        "# 🔹 **Definition:**\n",
        "\n",
        "A Set in Python is an unordered, unindexed, and mutable collection of unique items.\n",
        "\n",
        "That means:\n",
        "\n",
        "It does not allow duplicate values.\n",
        "\n",
        "The items are not stored in any specific order.\n",
        "\n",
        "You can add or remove items after creation.\n",
        "\n",
        "\n",
        "Key Characteristics:\n",
        "\n",
        "✅ Unordered → Items have no defined order (can’t use indexing or slicing)\n",
        "\n",
        "✅ Unique items only → Duplicates are removed automatically\n",
        "\n",
        "✅ Mutable → You can add or remove items after creation\n",
        "\n",
        "✅ Supports mathematical operations like union, intersection, difference, etc"
      ],
      "metadata": {
        "id": "yzw-ujE5dxec"
      }
    },
    {
      "cell_type": "code",
      "execution_count": 2,
      "metadata": {
        "id": "ZUbPAN8LdjvP",
        "colab": {
          "base_uri": "https://localhost:8080/"
        },
        "outputId": "e2c6f476-0660-4ae7-e683-74658ea95bf0"
      },
      "outputs": [
        {
          "output_type": "stream",
          "name": "stdout",
          "text": [
            "{1, 2, 3}\n"
          ]
        }
      ],
      "source": [
        "#syntax\n",
        "# Creating a set\n",
        "my_set = {1, 2, 3, 4}\n",
        "\n",
        "# Or using the set() constructor\n",
        "another_set = set([1, 2, 3, 2])\n",
        "print(another_set)  # Output: {1, 2, 3}\n"
      ]
    },
    {
      "cell_type": "code",
      "source": [
        "\"\"\"Access Set Items\n",
        "\n",
        "Since sets are unordered, you cannot access elements by index like lists or tuples.\"\"\"\n",
        "fruits = {\"apple\", \"banana\", \"cherry\"}\n",
        "\n",
        "#Invalid\n",
        "# print(fruits[0])  # This will cause an error\n",
        "\n",
        "#  Correct way: loop or use \"in\"\n",
        "for fruit in fruits:\n",
        "    print(fruit)\n",
        "\n",
        "# Check if an item exists\n",
        "print(\"apple\" in fruits)  # True\n"
      ],
      "metadata": {
        "colab": {
          "base_uri": "https://localhost:8080/"
        },
        "id": "0u5_67sIMzJp",
        "outputId": "451d39fe-2831-4f87-df21-801364c1a1e3"
      },
      "execution_count": 3,
      "outputs": [
        {
          "output_type": "stream",
          "name": "stdout",
          "text": [
            "cherry\n",
            "banana\n",
            "apple\n",
            "True\n"
          ]
        }
      ]
    },
    {
      "cell_type": "code",
      "source": [
        "#If you need to access items by index, first convert the set to a list:\n",
        "fruits_list = list(fruits)\n",
        "print(fruits_list[0])\n"
      ],
      "metadata": {
        "colab": {
          "base_uri": "https://localhost:8080/"
        },
        "id": "zVBvZimjNCHO",
        "outputId": "c1d1991e-ed2d-44a2-b10e-7602ee66c7a8"
      },
      "execution_count": 4,
      "outputs": [
        {
          "output_type": "stream",
          "name": "stdout",
          "text": [
            "cherry\n"
          ]
        }
      ]
    },
    {
      "cell_type": "markdown",
      "source": [
        "# **Add Set Items**\n",
        "\n",
        "You can add elements using two main methods:"
      ],
      "metadata": {
        "id": "mylryMOjnrZi"
      }
    },
    {
      "cell_type": "code",
      "source": [
        "#add() — Adds a single element\n",
        "fruits = {\"apple\", \"banana\"}\n",
        "fruits.add(\"cherry\")\n",
        "print(fruits)  # {'apple', 'banana', 'cherry'}"
      ],
      "metadata": {
        "colab": {
          "base_uri": "https://localhost:8080/"
        },
        "id": "3SKl_QHhn3Ss",
        "outputId": "d2b5b563-ece4-469a-b288-5c9c32fc240b"
      },
      "execution_count": 1,
      "outputs": [
        {
          "output_type": "stream",
          "name": "stdout",
          "text": [
            "{'banana', 'cherry', 'apple'}\n"
          ]
        }
      ]
    },
    {
      "cell_type": "code",
      "source": [
        "#update() — Adds multiple elements\n",
        "\n",
        "#You can add items from lists, tuples, or other sets.\n",
        "\n",
        "fruits = {\"apple\", \"banana\"}\n",
        "fruits.update([\"cherry\", \"mango\", \"grape\"])\n",
        "print(fruits)  # {'apple', 'banana', 'cherry', 'mango', 'grape'}"
      ],
      "metadata": {
        "colab": {
          "base_uri": "https://localhost:8080/"
        },
        "id": "Zmr7W7JXoHKP",
        "outputId": "752d3c8c-cfbf-47fe-c8d7-8916cc64df5a"
      },
      "execution_count": 3,
      "outputs": [
        {
          "output_type": "stream",
          "name": "stdout",
          "text": [
            "{'grape', 'cherry', 'apple', 'banana', 'mango'}\n"
          ]
        }
      ]
    },
    {
      "cell_type": "code",
      "source": [
        "#Remove Set Items\n",
        "\n",
        "#You can remove elements in several ways, each with a slightly different behavior.\n",
        "'''remove()\n",
        "\n",
        "Removes a specified item.\n",
        " If the item doesn’t exist → raises an error.'''\n",
        "fruits = {\"apple\", \"banana\", \"cherry\"}\n",
        "fruits.remove(\"banana\")\n",
        "print(fruits)  # {'apple', 'cherry'}\n",
        "# fruits.remove(\"mango\")  # ❌ KeyError if not found\n"
      ],
      "metadata": {
        "colab": {
          "base_uri": "https://localhost:8080/"
        },
        "id": "IPxv4l8koQ-O",
        "outputId": "63386ea5-ce7f-4101-cf9f-4796026e4e39"
      },
      "execution_count": 5,
      "outputs": [
        {
          "output_type": "stream",
          "name": "stdout",
          "text": [
            "{'cherry', 'apple'}\n"
          ]
        }
      ]
    },
    {
      "cell_type": "code",
      "source": [
        "#discard()\n",
        "\n",
        "#Removes a specified item but does not raise an error if the item doesn’t exist.\n",
        "fruits = {\"apple\", \"banana\", \"cherry\"}\n",
        "fruits.discard(\"banana\")\n",
        "fruits.discard(\"mango\")  # No error\n",
        "print(fruits)  # {'apple', 'cherry'}\n"
      ],
      "metadata": {
        "colab": {
          "base_uri": "https://localhost:8080/"
        },
        "id": "iuRhnU2joZUN",
        "outputId": "9f46a1ba-f7f1-42e2-be9d-0a3712cc50dd"
      },
      "execution_count": 6,
      "outputs": [
        {
          "output_type": "stream",
          "name": "stdout",
          "text": [
            "{'cherry', 'apple'}\n"
          ]
        }
      ]
    },
    {
      "cell_type": "code",
      "source": [
        "#pop()\n",
        "\n",
        "#Removes a random item because sets are unordered.\n",
        "\n",
        "fruits = {\"apple\", \"banana\", \"cherry\"}\n",
        "removed_item = fruits.pop()\n",
        "print(\"Removed:\", removed_item)\n",
        "print(fruits)\n"
      ],
      "metadata": {
        "colab": {
          "base_uri": "https://localhost:8080/"
        },
        "id": "qq6drUmET3Em",
        "outputId": "86b72af5-0405-4883-8b55-4c5cdd12c025"
      },
      "execution_count": 1,
      "outputs": [
        {
          "output_type": "stream",
          "name": "stdout",
          "text": [
            "Removed: cherry\n",
            "{'apple', 'banana'}\n"
          ]
        }
      ]
    },
    {
      "cell_type": "code",
      "source": [
        "# clear()\n",
        "\n",
        "# Removes all items from the set.\n",
        "fruits.clear()\n",
        "print(fruits)  # set()\n"
      ],
      "metadata": {
        "colab": {
          "base_uri": "https://localhost:8080/"
        },
        "id": "j4DjvfXLUF5C",
        "outputId": "ae813cf8-d1ee-4b3a-ac87-3d9e60f09baa"
      },
      "execution_count": 2,
      "outputs": [
        {
          "output_type": "stream",
          "name": "stdout",
          "text": [
            "set()\n"
          ]
        }
      ]
    },
    {
      "cell_type": "code",
      "source": [
        "# del\n",
        "\n",
        "# Deletes the entire set.\n",
        "del fruits\n"
      ],
      "metadata": {
        "colab": {
          "base_uri": "https://localhost:8080/",
          "height": 176
        },
        "id": "-jTDv6CmULby",
        "outputId": "c9053224-5c67-49f4-c105-9324afe21524"
      },
      "execution_count": 5,
      "outputs": [
        {
          "output_type": "error",
          "ename": "NameError",
          "evalue": "name 'fruits' is not defined",
          "traceback": [
            "\u001b[0;31m---------------------------------------------------------------------------\u001b[0m",
            "\u001b[0;31mNameError\u001b[0m                                 Traceback (most recent call last)",
            "\u001b[0;32m/tmp/ipython-input-3411067235.py\u001b[0m in \u001b[0;36m<cell line: 0>\u001b[0;34m()\u001b[0m\n\u001b[1;32m      2\u001b[0m \u001b[0;34m\u001b[0m\u001b[0m\n\u001b[1;32m      3\u001b[0m \u001b[0;31m# Deletes the entire set.\u001b[0m\u001b[0;34m\u001b[0m\u001b[0;34m\u001b[0m\u001b[0m\n\u001b[0;32m----> 4\u001b[0;31m \u001b[0;32mdel\u001b[0m \u001b[0mfruits\u001b[0m\u001b[0;34m\u001b[0m\u001b[0;34m\u001b[0m\u001b[0m\n\u001b[0m",
            "\u001b[0;31mNameError\u001b[0m: name 'fruits' is not defined"
          ]
        }
      ]
    },
    {
      "cell_type": "code",
      "source": [
        "# Loop Through Sets\n",
        "\n",
        "# You can loop through a set using a simple for loop.\n",
        "\n",
        "# Example:\n",
        "fruits = {\"apple\", \"banana\", \"cherry\"}\n",
        "\n",
        "for fruit in fruits:\n",
        "    print(fruit)"
      ],
      "metadata": {
        "colab": {
          "base_uri": "https://localhost:8080/"
        },
        "id": "Jd5zYHJsUu50",
        "outputId": "9d78759b-9dd5-4f0b-93cd-a6330cb7ee3c"
      },
      "execution_count": 6,
      "outputs": [
        {
          "output_type": "stream",
          "name": "stdout",
          "text": [
            "cherry\n",
            "apple\n",
            "banana\n"
          ]
        }
      ]
    },
    {
      "cell_type": "markdown",
      "source": [
        "# **Join Sets**\n",
        "\n",
        "You can join (combine) two or more sets in Python using set operations or methods.\n",
        "Because sets automatically remove duplicates, the result of joining will always contain unique elements.\n",
        "\n",
        " union() Method\n",
        " Returns a new set containing all items from both sets.\n",
        "\n",
        " update() Method Adds all items from one set into another (modifies the original)."
      ],
      "metadata": {
        "id": "_DemkavuVcYE"
      }
    },
    {
      "cell_type": "code",
      "source": [
        "set1 = {\"apple\", \"banana\", \"cherry\"}\n",
        "set2 = {\"google\", \"microsoft\", \"apple\"}\n",
        "\n",
        "result = set1.union(set2)\n",
        "print(result)\n",
        "# Output: {'google', 'banana', 'apple', 'microsoft', 'cherry'}\n"
      ],
      "metadata": {
        "colab": {
          "base_uri": "https://localhost:8080/"
        },
        "id": "CwPG-Lf4WqtI",
        "outputId": "be5163b2-a6c6-4b42-dfec-890bd761036c"
      },
      "execution_count": 7,
      "outputs": [
        {
          "output_type": "stream",
          "name": "stdout",
          "text": [
            "{'cherry', 'microsoft', 'banana', 'apple', 'google'}\n"
          ]
        }
      ]
    },
    {
      "cell_type": "code",
      "source": [
        "set1 = {\"apple\", \"banana\", \"cherry\"}\n",
        "set2 = {\"google\", \"microsoft\", \"apple\"}\n",
        "\n",
        "set1.update(set2)\n",
        "print(set1)\n",
        "# Output: {'google', 'banana', 'apple', 'microsoft', 'cherry'}\n"
      ],
      "metadata": {
        "colab": {
          "base_uri": "https://localhost:8080/"
        },
        "id": "DwmtJTEfWvjn",
        "outputId": "60497eb0-208b-450a-9ed7-0932a6e5db3e"
      },
      "execution_count": 8,
      "outputs": [
        {
          "output_type": "stream",
          "name": "stdout",
          "text": [
            "{'cherry', 'microsoft', 'banana', 'apple', 'google'}\n"
          ]
        }
      ]
    },
    {
      "cell_type": "code",
      "source": [
        "a = {1, 2, 3}\n",
        "b = {3, 4, 5}\n",
        "c = {5, 6, 7}\n",
        "\n",
        "print(a.union(b, c))\n",
        "# {1, 2, 3, 4, 5, 6, 7}\n"
      ],
      "metadata": {
        "colab": {
          "base_uri": "https://localhost:8080/"
        },
        "id": "7073QAP9WyLW",
        "outputId": "a1560bca-c721-4609-cc05-f3b322ced44b"
      },
      "execution_count": 9,
      "outputs": [
        {
          "output_type": "stream",
          "name": "stdout",
          "text": [
            "{1, 2, 3, 4, 5, 6, 7}\n"
          ]
        }
      ]
    },
    {
      "cell_type": "markdown",
      "source": [
        "# **Copy Sets**\n",
        "\n",
        "You can copy a set using either the copy() method or the set() constructor."
      ],
      "metadata": {
        "id": "XvGYD8yyYKKG"
      }
    },
    {
      "cell_type": "code",
      "source": [
        "#Using copy()\n",
        "fruits = {\"apple\", \"banana\", \"cherry\"}\n",
        "new_set = fruits.copy()\n",
        "print(new_set)"
      ],
      "metadata": {
        "colab": {
          "base_uri": "https://localhost:8080/"
        },
        "id": "k6zx8BEmYSjC",
        "outputId": "15a3826a-239b-46f1-c3d0-8fc4a4a54a2e"
      },
      "execution_count": 10,
      "outputs": [
        {
          "output_type": "stream",
          "name": "stdout",
          "text": [
            "{'cherry', 'apple', 'banana'}\n"
          ]
        }
      ]
    },
    {
      "cell_type": "code",
      "source": [
        "#Using set()\n",
        "fruits = {\"apple\", \"banana\", \"cherry\"}\n",
        "new_set = set(fruits)\n",
        "print(new_set)"
      ],
      "metadata": {
        "colab": {
          "base_uri": "https://localhost:8080/"
        },
        "id": "_6ehhVlDYbYj",
        "outputId": "76d186cf-4f86-49f5-e878-afb9157970ce"
      },
      "execution_count": 11,
      "outputs": [
        {
          "output_type": "stream",
          "name": "stdout",
          "text": [
            "{'cherry', 'apple', 'banana'}\n"
          ]
        }
      ]
    },
    {
      "cell_type": "markdown",
      "source": [
        "# **Python - Set Methods**\n",
        "\n",
        "Here’s a full list of the built-in set methods in Python:\n",
        "\n",
        "Method\tDescription\tExample\n",
        "\n",
        "add()\tAdds a single element\ts.add(4)\n",
        "\n",
        "update()\tAdds multiple elements\ts.update([5,6])\n",
        "\n",
        "remove()\tRemoves an item (raises error if not found)\ts.remove(2)\n",
        "\n",
        "discard()\tRemoves an item (no error if not found)\ts.discard(2)\n",
        "\n",
        "pop()\tRemoves a random element\ts.pop()\n",
        "\n",
        "clear()\tRemoves all elements\ts.clear()\n",
        "\n",
        "copy()\tReturns a shallow copy\ts.copy()\n",
        "\n",
        "union()\tReturns the union\ts1.union(s2)\n",
        "\n",
        "update()\tAdds all items from another set\ts1.update(s2)\n",
        "\n",
        "intersection()\tReturns items common to both\ts1.intersection(s2)\n",
        "\n",
        "intersection_update()\tUpdates the set with the intersection\ts1.\n",
        "\n",
        "intersection_update(s2)\n",
        "\n",
        "difference()\tReturns the difference\ts1.difference(s2)\n",
        "\n",
        "difference_update()\tUpdates set removing common items\ts1.difference_update(s2)\n",
        "\n",
        "symmetric_difference()\tReturns items not in both\ts1.symmetric_difference(s2)\n",
        "\n",
        "symmetric_difference_update()\tUpdates set with symmetric difference\ts1.\n",
        "\n",
        "symmetric_difference_update(s2)\n",
        "\n",
        "issubset()\tChecks if a set is a subset of another\ts1.issubset(s2)\n",
        "\n",
        "issuperset()\tChecks if a set is a superset of another\ts1.issuperset(s2)\n",
        "\n",
        "isdisjoint()\tChecks if two sets have no items in common\ts1.isdisjoint(s2)"
      ],
      "metadata": {
        "id": "0bhMNBLPYibj"
      }
    },
    {
      "cell_type": "code",
      "source": [],
      "metadata": {
        "id": "xmYczjQ3Y7Ff"
      },
      "execution_count": null,
      "outputs": []
    }
  ]
}