{
  "cells": [
    {
      "cell_type": "code",
      "execution_count": 1,
      "id": "23ea0af2",
      "metadata": {
        "id": "23ea0af2"
      },
      "outputs": [],
      "source": [
        "# syntax to make the function in python\n",
        "def function_name( parameters ):\n",
        "   \"function_docstring\"\n",
        "   function_suite\n",
        "   return [expression]\n"
      ]
    },
    {
      "cell_type": "code",
      "execution_count": 2,
      "id": "17de59a0",
      "metadata": {
        "colab": {
          "base_uri": "https://localhost:8080/"
        },
        "id": "17de59a0",
        "outputId": "0a8da714-e7c8-485a-9bb3-c24e637d4228"
      },
      "outputs": [
        {
          "output_type": "stream",
          "name": "stdout",
          "text": [
            "Hello Abhishek , All the best for your python journey!\n"
          ]
        },
        {
          "output_type": "execute_result",
          "data": {
            "text/plain": [
              "()"
            ]
          },
          "metadata": {},
          "execution_count": 2
        }
      ],
      "source": [
        "#example\n",
        "def greetings():\n",
        "    print(\"Hello Abhishek , All the best for your python journey!\")\n",
        "\n",
        "    return()\n",
        "\n",
        "greetings()"
      ]
    },
    {
      "cell_type": "code",
      "execution_count": 3,
      "id": "58370b0e",
      "metadata": {
        "colab": {
          "base_uri": "https://localhost:8080/"
        },
        "id": "58370b0e",
        "outputId": "d1f2a57d-1466-4a53-e46c-d96d080d88e0"
      },
      "outputs": [
        {
          "output_type": "stream",
          "name": "stdout",
          "text": [
            "I'm first call to user defined function!\n",
            "Again second call to the same function\n"
          ]
        }
      ],
      "source": [
        "# Function definition is here\n",
        "def printme( self ):\n",
        "   \"This prints a passed string into this function\"\n",
        "   print (self)\n",
        "   return;\n",
        "\n",
        "# Now you can call the function\n",
        "printme(\"I'm first call to user defined function!\")\n",
        "printme(\"Again second call to the same function\")"
      ]
    },
    {
      "cell_type": "markdown",
      "id": "00d88983",
      "metadata": {
        "id": "00d88983"
      },
      "source": [
        "call by value − When a variable is passed to a function while calling, the value of actual arguments is copied to the variables representing the formal arguments. Thus, any changes in formal arguments does not get reflected in the actual argument. This way of passing variable is known as call by value.\n",
        "\n",
        "call by reference − In this way of passing variable, a reference to the object in memory is passed. Both the formal arguments and the actual arguments (variables in the calling code) refer to the same object. Hence, any changes in formal arguments does get reflected in the actual argument."
      ]
    },
    {
      "cell_type": "code",
      "execution_count": 4,
      "id": "007ad30f",
      "metadata": {
        "colab": {
          "base_uri": "https://localhost:8080/"
        },
        "id": "007ad30f",
        "outputId": "68ee3515-66c2-4d74-9368-56a312a233dd"
      },
      "outputs": [
        {
          "output_type": "stream",
          "name": "stdout",
          "text": [
            "Value inside function: 15\n",
            "value outside the function: 5\n"
          ]
        }
      ],
      "source": [
        "#call by value\n",
        "#in python immutable objects(int , float , str , tuple) behaves like call by value .\n",
        "#example\n",
        "def change_value(x):\n",
        "    x = x +10\n",
        "    print(\"Value inside function:\",x)\n",
        "\n",
        "num = 5\n",
        "change_value(num)\n",
        "print(\"value outside the function:\", num)\n",
        "\n",
        "#num ka value change nhi hua kyuki ye immutable hai\n"
      ]
    },
    {
      "cell_type": "code",
      "execution_count": 5,
      "id": "cf932bef",
      "metadata": {
        "colab": {
          "base_uri": "https://localhost:8080/"
        },
        "id": "cf932bef",
        "outputId": "786af00d-2bca-40ea-963e-701b250e412b"
      },
      "outputs": [
        {
          "output_type": "stream",
          "name": "stdout",
          "text": [
            "list inside function: [1, 2, 3, 4]\n",
            "list outside function: [1, 2, 3, 4]\n"
          ]
        }
      ],
      "source": [
        "#call by reference : in python mutable objects (list , dict , set) behaves like call by reference\n",
        "#example\n",
        "def add_element(list1):\n",
        "    list1.append(4)\n",
        "    print(\"list inside function:\" , list1)\n",
        "my_list = [1,2,3]\n",
        "add_element(my_list)\n",
        "print(\"list outside function:\", my_list)\n",
        "#my_list ka value change ho gaya kyuki ye mutable hai\n",
        "\n",
        "\n",
        ""
      ]
    },
    {
      "cell_type": "code",
      "source": [
        "#python function arguments\n",
        "#syntax\n",
        "def Funcion_name(arg1 , arg2):\n",
        "\n",
        "    return\n",
        "function_name(val1 , val2)\n",
        "\n",
        "\n",
        ""
      ],
      "metadata": {
        "id": "4ghMpRYqos_g"
      },
      "id": "4ghMpRYqos_g",
      "execution_count": null,
      "outputs": []
    },
    {
      "cell_type": "code",
      "execution_count": null,
      "id": "952ce7e1",
      "metadata": {
        "id": "952ce7e1"
      },
      "outputs": [],
      "source": [
        "def greetings(name):\n",
        "   \"This is docstring of greetings function\"\n",
        "   print (\"Hello {}\".format(name))\n",
        "   return\n",
        "\n",
        "greetings(\"Abhishek\")\n",
        "greetings(\"rahul\")\n",
        "greetings(\"Nitish\")"
      ]
    }
  ],
  "metadata": {
    "kernelspec": {
      "display_name": "base",
      "language": "python",
      "name": "python3"
    },
    "language_info": {
      "codemirror_mode": {
        "name": "ipython",
        "version": 3
      },
      "file_extension": ".py",
      "mimetype": "text/x-python",
      "name": "python",
      "nbconvert_exporter": "python",
      "pygments_lexer": "ipython3",
      "version": "3.11.7"
    },
    "colab": {
      "provenance": []
    }
  },
  "nbformat": 4,
  "nbformat_minor": 5
}