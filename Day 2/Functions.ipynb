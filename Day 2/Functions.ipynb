{
  "cells": [
    {
      "cell_type": "code",
      "execution_count": 1,
      "id": "23ea0af2",
      "metadata": {
        "id": "23ea0af2"
      },
      "outputs": [],
      "source": [
        "# syntax to make the function in python\n",
        "def function_name( parameters ):\n",
        "   \"function_docstring\"\n",
        "   function_suite\n",
        "   return [expression]\n"
      ]
    },
    {
      "cell_type": "code",
      "execution_count": 2,
      "id": "17de59a0",
      "metadata": {
        "colab": {
          "base_uri": "https://localhost:8080/"
        },
        "id": "17de59a0",
        "outputId": "0a8da714-e7c8-485a-9bb3-c24e637d4228"
      },
      "outputs": [
        {
          "output_type": "stream",
          "name": "stdout",
          "text": [
            "Hello Abhishek , All the best for your python journey!\n"
          ]
        },
        {
          "output_type": "execute_result",
          "data": {
            "text/plain": [
              "()"
            ]
          },
          "metadata": {},
          "execution_count": 2
        }
      ],
      "source": [
        "#example\n",
        "def greetings():\n",
        "    print(\"Hello Abhishek , All the best for your python journey!\")\n",
        "\n",
        "    return()\n",
        "\n",
        "greetings()"
      ]
    },
    {
      "cell_type": "code",
      "execution_count": 3,
      "id": "58370b0e",
      "metadata": {
        "colab": {
          "base_uri": "https://localhost:8080/"
        },
        "id": "58370b0e",
        "outputId": "d1f2a57d-1466-4a53-e46c-d96d080d88e0"
      },
      "outputs": [
        {
          "output_type": "stream",
          "name": "stdout",
          "text": [
            "I'm first call to user defined function!\n",
            "Again second call to the same function\n"
          ]
        }
      ],
      "source": [
        "# Function definition is here\n",
        "def printme( self ):\n",
        "   \"This prints a passed string into this function\"\n",
        "   print (self)\n",
        "   return;\n",
        "\n",
        "# Now you can call the function\n",
        "printme(\"I'm first call to user defined function!\")\n",
        "printme(\"Again second call to the same function\")"
      ]
    },
    {
      "cell_type": "markdown",
      "id": "00d88983",
      "metadata": {
        "id": "00d88983"
      },
      "source": [
        "call by value − When a variable is passed to a function while calling, the value of actual arguments is copied to the variables representing the formal arguments. Thus, any changes in formal arguments does not get reflected in the actual argument. This way of passing variable is known as call by value.\n",
        "\n",
        "call by reference − In this way of passing variable, a reference to the object in memory is passed. Both the formal arguments and the actual arguments (variables in the calling code) refer to the same object. Hence, any changes in formal arguments does get reflected in the actual argument."
      ]
    },
    {
      "cell_type": "code",
      "execution_count": 4,
      "id": "007ad30f",
      "metadata": {
        "colab": {
          "base_uri": "https://localhost:8080/"
        },
        "id": "007ad30f",
        "outputId": "68ee3515-66c2-4d74-9368-56a312a233dd"
      },
      "outputs": [
        {
          "output_type": "stream",
          "name": "stdout",
          "text": [
            "Value inside function: 15\n",
            "value outside the function: 5\n"
          ]
        }
      ],
      "source": [
        "#call by value\n",
        "#in python immutable objects(int , float , str , tuple) behaves like call by value .\n",
        "#example\n",
        "def change_value(x):\n",
        "    x = x +10\n",
        "    print(\"Value inside function:\",x)\n",
        "\n",
        "num = 5\n",
        "change_value(num)\n",
        "print(\"value outside the function:\", num)\n",
        "\n",
        "#num ka value change nhi hua kyuki ye immutable hai\n"
      ]
    },
    {
      "cell_type": "code",
      "execution_count": 5,
      "id": "cf932bef",
      "metadata": {
        "colab": {
          "base_uri": "https://localhost:8080/"
        },
        "id": "cf932bef",
        "outputId": "786af00d-2bca-40ea-963e-701b250e412b"
      },
      "outputs": [
        {
          "output_type": "stream",
          "name": "stdout",
          "text": [
            "list inside function: [1, 2, 3, 4]\n",
            "list outside function: [1, 2, 3, 4]\n"
          ]
        }
      ],
      "source": [
        "#call by reference : in python mutable objects (list , dict , set) behaves like call by reference\n",
        "#example\n",
        "def add_element(list1):\n",
        "    list1.append(4)\n",
        "    print(\"list inside function:\" , list1)\n",
        "my_list = [1,2,3]\n",
        "add_element(my_list)\n",
        "print(\"list outside function:\", my_list)\n",
        "#my_list ka value change ho gaya kyuki ye mutable hai\n",
        "\n",
        "\n",
        ""
      ]
    },
    {
      "cell_type": "code",
      "source": [
        "#python function arguments\n",
        "#syntax\n",
        "def Funcion_name(arg1 , arg2):\n",
        "\n",
        "    return\n",
        "function_name(val1 , val2)\n",
        "\n",
        "\n",
        ""
      ],
      "metadata": {
        "id": "4ghMpRYqos_g"
      },
      "id": "4ghMpRYqos_g",
      "execution_count": null,
      "outputs": []
    },
    {
      "cell_type": "code",
      "execution_count": null,
      "id": "952ce7e1",
      "metadata": {
        "id": "952ce7e1"
      },
      "outputs": [],
      "source": [
        "def greetings(name):\n",
        "   \"This is docstring of greetings function\"\n",
        "   print (\"Hello {}\".format(name))\n",
        "   return\n",
        "\n",
        "greetings(\"Abhishek\")\n",
        "greetings(\"rahul\")\n",
        "greetings(\"Nitish\")"
      ]
    },
    {
      "cell_type": "markdown",
      "source": [
        "Types of Python Function Arguments\n",
        "Based on how the arguments are declared while defining a Python function, they are classified into the following categories −\n",
        "\n",
        "Positional or Required Arguments\n",
        "\n",
        "Keyword Arguments\n",
        "\n",
        "Default Arguments\n",
        "\n",
        "Positional-only Arguments\n",
        "\n",
        "Keyword-only arguments\n",
        "\n",
        "Arbitrary or Variable-length Arguments"
      ],
      "metadata": {
        "id": "rN-joZ9zpRRt"
      },
      "id": "rN-joZ9zpRRt"
    },
    {
      "cell_type": "code",
      "source": [
        "\"\"\"Required arguments are the arguments passed to a function in correct positional order. Here, the number of arguments in the function call should match exactly with the function definition, otherwise the code gives a syntax error.\"\"\"\n",
        "# Function definition is here\n",
        "def printme( str ):\n",
        "   \"This prints a passed string into this function\"\n",
        "   print (str)\n",
        "   return;\n",
        "\n",
        "# Now you can call printme function\n",
        "printme()"
      ],
      "metadata": {
        "colab": {
          "base_uri": "https://localhost:8080/",
          "height": 176
        },
        "id": "BNj9L0okpEN4",
        "outputId": "afe880a8-c731-4ef9-a9a5-a3bbfc7c81ef"
      },
      "id": "BNj9L0okpEN4",
      "execution_count": 8,
      "outputs": [
        {
          "output_type": "error",
          "ename": "TypeError",
          "evalue": "printme() missing 1 required positional argument: 'str'",
          "traceback": [
            "\u001b[0;31m---------------------------------------------------------------------------\u001b[0m",
            "\u001b[0;31mTypeError\u001b[0m                                 Traceback (most recent call last)",
            "\u001b[0;32m/tmp/ipython-input-2522017333.py\u001b[0m in \u001b[0;36m<cell line: 0>\u001b[0;34m()\u001b[0m\n\u001b[1;32m      7\u001b[0m \u001b[0;34m\u001b[0m\u001b[0m\n\u001b[1;32m      8\u001b[0m \u001b[0;31m# Now you can call printme function\u001b[0m\u001b[0;34m\u001b[0m\u001b[0;34m\u001b[0m\u001b[0m\n\u001b[0;32m----> 9\u001b[0;31m \u001b[0mprintme\u001b[0m\u001b[0;34m(\u001b[0m\u001b[0;34m)\u001b[0m\u001b[0;34m\u001b[0m\u001b[0;34m\u001b[0m\u001b[0m\n\u001b[0m",
            "\u001b[0;31mTypeError\u001b[0m: printme() missing 1 required positional argument: 'str'"
          ]
        }
      ]
    },
    {
      "cell_type": "code",
      "source": [
        "\"\"\"Keyword arguments are related to the function calls. When you use keyword arguments in a function call, the caller identifies the arguments by the parameter name. This allows you to skip arguments or place them out of order because the Python interpreter is able to use the keywords provided to match the values with parameters.\"\"\"\n",
        "# Function definition is here\n",
        "def printme( str ):\n",
        "   \"This prints a passed string into this function\"\n",
        "   print (str)\n",
        "   return;\n",
        "\n",
        "# Now you can call printme function\n",
        "printme( str = \"My string\")"
      ],
      "metadata": {
        "colab": {
          "base_uri": "https://localhost:8080/"
        },
        "id": "dCsQZ8P7poyX",
        "outputId": "cd1be95d-2e18-4042-cd32-7534a5846262"
      },
      "id": "dCsQZ8P7poyX",
      "execution_count": 9,
      "outputs": [
        {
          "output_type": "stream",
          "name": "stdout",
          "text": [
            "My string\n"
          ]
        }
      ]
    },
    {
      "cell_type": "code",
      "source": [
        "\"\"\"A default argument is an argument that assumes a default value if a value is not provided in the function call for that argument.\"\"\"\n",
        "# Function definition is here\n",
        "def printinfo( name, age = 35 ):\n",
        "   \"This prints a passed info into this function\"\n",
        "   print (\"Name: \", name)\n",
        "   print (\"Age \", age)\n",
        "   return;\n",
        "\n",
        "# Now you can call printinfo function\n",
        "printinfo( age=20, name=\"Abhishek\" )\n",
        "printinfo( name=\"Abhishek\" )"
      ],
      "metadata": {
        "colab": {
          "base_uri": "https://localhost:8080/"
        },
        "id": "Mo3ep0hUpybY",
        "outputId": "d0791e2e-3f4f-40fe-d013-2720b86cb5d8"
      },
      "id": "Mo3ep0hUpybY",
      "execution_count": 10,
      "outputs": [
        {
          "output_type": "stream",
          "name": "stdout",
          "text": [
            "Name:  Abhishek\n",
            "Age  20\n",
            "Name:  Abhishek\n",
            "Age  35\n"
          ]
        }
      ]
    },
    {
      "cell_type": "markdown",
      "source": [
        "Positional-only arguments\n",
        "Those arguments that can only be specified by their position in the function call is called as Positional-only arguments. They are defined by placing a \"/\" in the function's parameter list after all positional-only parameters. This feature was introduced with the release of Python 3.8."
      ],
      "metadata": {
        "id": "xW4AOy2JqQ06"
      },
      "id": "xW4AOy2JqQ06"
    },
    {
      "cell_type": "code",
      "source": [
        "def posFun(x, y, /, z):\n",
        "    print(x + y + z)\n",
        "\n",
        "print(\"Evaluating positional-only arguments: \")\n",
        "posFun(33, 22, z=11)"
      ],
      "metadata": {
        "colab": {
          "base_uri": "https://localhost:8080/"
        },
        "id": "GPQlRfu0qMxO",
        "outputId": "7733d236-c8a6-44e6-d6dd-3949e4b62cd7"
      },
      "id": "GPQlRfu0qMxO",
      "execution_count": 11,
      "outputs": [
        {
          "output_type": "stream",
          "name": "stdout",
          "text": [
            "Evaluating positional-only arguments: \n",
            "66\n"
          ]
        }
      ]
    },
    {
      "cell_type": "markdown",
      "source": [
        "Arbitrary or Variable-length Arguments\n",
        "You may need to process a function for more arguments than you specified while defining the function. These arguments are called variable-length arguments and are not named in the function definition, unlike required and default arguments."
      ],
      "metadata": {
        "id": "Uwh8QNEOqbdW"
      },
      "id": "Uwh8QNEOqbdW"
    },
    {
      "cell_type": "code",
      "source": [
        "#syntaxt\n",
        "def functionname([formal_args,] *var_args_tuple ):\n",
        "   \"function_docstring\"\n",
        "   function_suite\n",
        "   return [expression]"
      ],
      "metadata": {
        "id": "M2bth7VKqlvJ"
      },
      "id": "M2bth7VKqlvJ",
      "execution_count": null,
      "outputs": []
    },
    {
      "cell_type": "code",
      "source": [
        "def printinfo( arg1, *vartuple ):\n",
        "   \"This prints a variable passed arguments\"\n",
        "   print (\"Output is: \")\n",
        "   print (arg1)\n",
        "   for var in vartuple:\n",
        "      print (var)\n",
        "   return;\n",
        "\n",
        "# Now you can call printinfo function\n",
        "printinfo( 10 )\n",
        "printinfo( 70, 60, 50 )"
      ],
      "metadata": {
        "colab": {
          "base_uri": "https://localhost:8080/"
        },
        "id": "hDOVO0wBqmdj",
        "outputId": "442a06a6-e55a-4050-f5fa-186b8097057b"
      },
      "id": "hDOVO0wBqmdj",
      "execution_count": 13,
      "outputs": [
        {
          "output_type": "stream",
          "name": "stdout",
          "text": [
            "Output is: \n",
            "10\n",
            "Output is: \n",
            "70\n",
            "60\n",
            "50\n"
          ]
        }
      ]
    },
    {
      "cell_type": "markdown",
      "source": [
        "Python Function with Return Value\n",
        "The return keyword as the last statement in function definition indicates end of function block, and the program flow goes back to the calling function. Although reduced indent after the last statement in the block also implies return but using explicit return is a good practice."
      ],
      "metadata": {
        "id": "gQo2CPcbqu-1"
      },
      "id": "gQo2CPcbqu-1"
    },
    {
      "cell_type": "code",
      "source": [
        "def add(x,y):\n",
        "   z=x+y\n",
        "   return z\n",
        "a=10\n",
        "b=20\n",
        "result = add(a,b)\n",
        "print (\"a = {} b = {} a+b = {}\".format(a, b, result))"
      ],
      "metadata": {
        "colab": {
          "base_uri": "https://localhost:8080/"
        },
        "id": "oHc1BRbdqv7s",
        "outputId": "2648a074-3e7f-40b1-92e4-e83f3583a078"
      },
      "id": "oHc1BRbdqv7s",
      "execution_count": 14,
      "outputs": [
        {
          "output_type": "stream",
          "name": "stdout",
          "text": [
            "a = 10 b = 20 a+b = 30\n"
          ]
        }
      ]
    },
    {
      "cell_type": "markdown",
      "source": [
        "The Anonymous Functions\n",
        "The functions are called anonymous when they are not declared in the standard manner by using the def keyword. Instead, they are defined using the lambda keyword."
      ],
      "metadata": {
        "id": "cYLxjPZ5q1GZ"
      },
      "id": "cYLxjPZ5q1GZ"
    },
    {
      "cell_type": "code",
      "source": [
        "#syntax\n",
        "\n",
        "lambda [arg1 [,arg2,.....argn]]:expression"
      ],
      "metadata": {
        "id": "2VGbPi_Vq5zR"
      },
      "id": "2VGbPi_Vq5zR",
      "execution_count": null,
      "outputs": []
    },
    {
      "cell_type": "code",
      "source": [
        "# Function definition is here\n",
        "sum = lambda arg1, arg2: arg1 + arg2;\n",
        "\n",
        "# Now you can call sum as a function\n",
        "print (\"Value of total : \", sum( 10, 20 ))\n",
        "print (\"Value of total : \", sum( 20, 20 ))"
      ],
      "metadata": {
        "colab": {
          "base_uri": "https://localhost:8080/"
        },
        "id": "bHCxeTnEq2Le",
        "outputId": "16651ed0-db5e-4966-ed07-4d1bcb7390c0"
      },
      "id": "bHCxeTnEq2Le",
      "execution_count": 15,
      "outputs": [
        {
          "output_type": "stream",
          "name": "stdout",
          "text": [
            "Value of total :  30\n",
            "Value of total :  40\n"
          ]
        }
      ]
    },
    {
      "cell_type": "markdown",
      "source": [
        "Global vs. Local variables\n",
        "\n",
        "Variables that are defined inside a function body have a local scope, and those defined outside have a global scope.\n",
        "\n",
        "This means that local variables can be accessed only inside the function in which they are declared, whereas global variables can be accessed throughout the program body by all functions. When you call a function, the variables declared inside it are brought into scope."
      ],
      "metadata": {
        "id": "A57W5wunrDUC"
      },
      "id": "A57W5wunrDUC"
    },
    {
      "cell_type": "code",
      "source": [
        "total = 0; # This is global variable.\n",
        "# Function definition is here\n",
        "def sum( arg1, arg2 ):\n",
        "   # Add both the parameters and return them.\"\n",
        "   total = arg1 + arg2; # Here total is local variable.\n",
        "   print (\"Inside the function local total : \", total)\n",
        "   return total;\n",
        "\n",
        "# Now you can call sum function\n",
        "sum( 10, 20 );\n",
        "print (\"Outside the function global total : \", total)"
      ],
      "metadata": {
        "colab": {
          "base_uri": "https://localhost:8080/"
        },
        "id": "v3K9NKBnrJKv",
        "outputId": "6c4f3539-3b8a-4a11-83b0-c29a557d0594"
      },
      "id": "v3K9NKBnrJKv",
      "execution_count": 16,
      "outputs": [
        {
          "output_type": "stream",
          "name": "stdout",
          "text": [
            "Inside the function local total :  30\n",
            "Outside the function global total :  0\n"
          ]
        }
      ]
    },
    {
      "cell_type": "code",
      "source": [
        "#default arguments\n",
        "def greet(name=\"Guest\"):\n",
        "    print(f\"Hello, {name}!\")\n",
        "\n",
        "greet(\"Riya\")  # Hello, Riya!\n",
        "greet()        # Hello, Guest!\n",
        "\n"
      ],
      "metadata": {
        "colab": {
          "base_uri": "https://localhost:8080/"
        },
        "id": "AUVFPpumumvK",
        "outputId": "6aa6bab7-3c4f-4ece-8f4c-4751efda354c"
      },
      "id": "AUVFPpumumvK",
      "execution_count": 17,
      "outputs": [
        {
          "output_type": "stream",
          "name": "stdout",
          "text": [
            "Hello, Riya!\n",
            "Hello, Guest!\n"
          ]
        }
      ]
    },
    {
      "cell_type": "code",
      "source": [
        "#keyword arguments : Keyword arguments me function call me parameter ka naam explicitly specify karte hain.\n",
        "def describe_person(name, age):\n",
        "    print(f\"{name} is {age} years old.\")\n",
        "\n",
        "describe_person(age=25, name=\"Abhishek\")\n"
      ],
      "metadata": {
        "colab": {
          "base_uri": "https://localhost:8080/"
        },
        "id": "lGJxEr2RvDKt",
        "outputId": "cc858e8e-39f9-4879-c81e-8e9a9cef538d"
      },
      "id": "lGJxEr2RvDKt",
      "execution_count": 20,
      "outputs": [
        {
          "output_type": "stream",
          "name": "stdout",
          "text": [
            "Abhishek is 25 years old.\n"
          ]
        }
      ]
    },
    {
      "cell_type": "code",
      "source": [
        "\"\"\"keyword Only arguments : Keyword-only arguments wo hote hain jo sirf keyword se pass ho sakte hain, positional arguments se nahi.\n",
        "\n",
        "* ka use hota hai separator ke liye.\"\"\"\n",
        "\n",
        "def info(name, *, age):\n",
        "    print(f\"{name} is {age} years old.\")\n",
        "\n",
        "info(\"Riya\", age=23)  # Sahi\n",
        "# info(\"Riya\", 23)    # Galat! Positional argument nahi chalenge\n"
      ],
      "metadata": {
        "colab": {
          "base_uri": "https://localhost:8080/"
        },
        "id": "JaeKTm4JvElv",
        "outputId": "8917a785-03a4-4bf8-97a3-b74b1de590ff"
      },
      "id": "JaeKTm4JvElv",
      "execution_count": 19,
      "outputs": [
        {
          "output_type": "stream",
          "name": "stdout",
          "text": [
            "Riya is 23 years old.\n"
          ]
        }
      ]
    },
    {
      "cell_type": "code",
      "source": [
        "#Positional Arguments\n",
        "\n",
        "#Positional arguments order ke basis par function me pass hote hain.\n",
        "def add(a, b):\n",
        "    return a + b\n",
        "\n",
        "print(add(5, 3))  # 8\n",
        "print(add(3, 5))  # 8 (order change karoge to different result aa sakta hai)\n"
      ],
      "metadata": {
        "colab": {
          "base_uri": "https://localhost:8080/"
        },
        "id": "SDK3JVBhvSSm",
        "outputId": "b580f6a6-cc8f-4080-e597-4497b2cb1847"
      },
      "id": "SDK3JVBhvSSm",
      "execution_count": 21,
      "outputs": [
        {
          "output_type": "stream",
          "name": "stdout",
          "text": [
            "8\n",
            "8\n"
          ]
        }
      ]
    },
    {
      "cell_type": "code",
      "source": [
        "\"\"\"Positional-Only Arguments\n",
        "\n",
        "Python 3.8+ me positional-only arguments define kar sakte hain / use karke.\n",
        "Ye arguments sirf order se pass kiye ja sakte hain, keyword se nahi.\"\"\"\n",
        "def divide(a, b, /):\n",
        "    return a / b\n",
        "\n",
        "print(divide(10, 2))  # 5.0\n",
        "# divide(a=10, b=2)   # Error!\n"
      ],
      "metadata": {
        "colab": {
          "base_uri": "https://localhost:8080/"
        },
        "id": "rjTERDwNvq_H",
        "outputId": "4d9c87e2-29b0-426f-8a80-aa494e867769"
      },
      "id": "rjTERDwNvq_H",
      "execution_count": 22,
      "outputs": [
        {
          "output_type": "stream",
          "name": "stdout",
          "text": [
            "5.0\n"
          ]
        }
      ]
    },
    {
      "cell_type": "code",
      "source": [
        "\"\"\"Python - Arbitrary Arguments\n",
        "\n",
        "Kabhi pata nahi hota ki kitne arguments pass honge, tab *args aur **kwargs use karte hain.\"\"\"\n",
        "#*args → positional arbitrary arguments\n",
        "def add_numbers(*args):\n",
        "    # Manually sum the arguments to avoid potential conflicts with a custom sum function\n",
        "    total = 0\n",
        "    for num in args:\n",
        "        total += num\n",
        "    return total\n",
        "\n",
        "print(add_numbers(1, 2, 3))      # 6\n",
        "print(add_numbers(5, 10, 15, 20)) # 50"
      ],
      "metadata": {
        "colab": {
          "base_uri": "https://localhost:8080/"
        },
        "id": "lBTCLNMFv5wh",
        "outputId": "ddff8356-4913-4d18-de20-2d4efb3c8c52"
      },
      "id": "lBTCLNMFv5wh",
      "execution_count": 25,
      "outputs": [
        {
          "output_type": "stream",
          "name": "stdout",
          "text": [
            "6\n",
            "50\n"
          ]
        }
      ]
    },
    {
      "cell_type": "code",
      "source": [
        "#**kwargs → keyword arbitrary arguments\n",
        "def print_info(**kwargs):\n",
        "    for key, value in kwargs.items():\n",
        "        print(f\"{key}: {value}\")\n",
        "\n",
        "print_info(name=\"Riya\", age=23, city=\"Delhi\")"
      ],
      "metadata": {
        "colab": {
          "base_uri": "https://localhost:8080/"
        },
        "id": "ffz_0sUZwk2G",
        "outputId": "58f7fa22-2e1b-4fd2-89fd-493fbb43b446"
      },
      "id": "ffz_0sUZwk2G",
      "execution_count": 26,
      "outputs": [
        {
          "output_type": "stream",
          "name": "stdout",
          "text": [
            "name: Riya\n",
            "age: 23\n",
            "city: Delhi\n"
          ]
        }
      ]
    },
    {
      "cell_type": "code",
      "source": [
        "\"\"\"\"Python - Function Annotations\n",
        "\n",
        "Function parameters aur return value ke liye metadata provide karne ke liye annotations use hote hain.\"\"\"\n",
        "\n",
        "#Example:\n",
        "\n",
        "def greet(name: str) -> str:\n",
        "    return f\"Hello, {name}!\"\n",
        "\n",
        "print(greet(\"Abhishek\"))"
      ],
      "metadata": {
        "colab": {
          "base_uri": "https://localhost:8080/"
        },
        "id": "bYpFShCZwuRk",
        "outputId": "9ca06811-96c0-41ad-b6de-4d9c503c9197"
      },
      "id": "bYpFShCZwuRk",
      "execution_count": 27,
      "outputs": [
        {
          "output_type": "stream",
          "name": "stdout",
          "text": [
            "Hello, Abhishek!\n"
          ]
        }
      ]
    }
  ],
  "metadata": {
    "kernelspec": {
      "display_name": "base",
      "language": "python",
      "name": "python3"
    },
    "language_info": {
      "codemirror_mode": {
        "name": "ipython",
        "version": 3
      },
      "file_extension": ".py",
      "mimetype": "text/x-python",
      "name": "python",
      "nbconvert_exporter": "python",
      "pygments_lexer": "ipython3",
      "version": "3.11.7"
    },
    "colab": {
      "provenance": []
    }
  },
  "nbformat": 4,
  "nbformat_minor": 5
}